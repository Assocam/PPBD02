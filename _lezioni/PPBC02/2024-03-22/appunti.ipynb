{
 "cells": [
  {
   "cell_type": "markdown",
   "metadata": {},
   "source": [
    "## Esercizio *data structures*\n",
    "\n",
    "[G_type_commons.ipynb - Accedere ai valori dentro una *data structure*](../../../G_type_commons.ipynb)\n",
    "\n",
    "1. Scegli un valore nella struttura dati qua sopra e prova a raggiungerlo scrivendo un'espressione.\n",
    "\n",
    "2. Scegli una delle seguenti espressioni e prova a capire a quale valore accede, osservando la struttura dati nel notebook [G_type_commons.ipynb](../../../G_type_commons.ipynb).\n",
    "```python\n",
    "data[0]['reality'][0][0]\n",
    "data[1][234]['Pupa']['1']\n",
    "data[2]['TEAM2'][0]['nome']\n",
    "data[0]['fiction'][1][2][0]['chimera']\n",
    "data[2]['TEAM2'][0]['nome'][1]\n",
    "data[1][234]['Terry'][2]\n",
    "```"
   ]
  },
  {
   "cell_type": "markdown",
   "metadata": {},
   "source": [
    "## Dict comprehension\n",
    "\n",
    "[E_dict_reference.ipynb - Dict comprehension](../../../E_dict_reference.ipynb)"
   ]
  },
  {
   "cell_type": "markdown",
   "metadata": {},
   "source": [
    "## Esercizio 9 - Nuovi Mercati\n",
    "\n",
    "[esercizio_09_set_list_dict_if_for.ipynb](esercizio_09_set_list_dict_if_for.ipynb)\n",
    "\n",
    "###  Pseudocodice:\n",
    "\n",
    "```text\n",
    "- creo un dizionario con tutte le chiavi che sono i nomi delle categorie e le\n",
    "  inizializzo tutte a 0;\n",
    "\n",
    "- per ciascun competitor:\n",
    "    - per ciascuna categoria:\n",
    "        - se la categoria è presente nel competitor corrente:\n",
    "            - incremento il contatore di quella categoria nel report;\n",
    "\n",
    "- per ciascuna chiave nel report:\n",
    "    - se il valore è 0:\n",
    "        - stampo la categoria\n",
    "\n",
    "- il report completo lo converto invece in una lista \n",
    "  [(categoria: conteggio_competitors)];\n",
    "\n",
    "- stampo i risultati\n",
    "```"
   ]
  }
 ],
 "metadata": {
  "language_info": {
   "name": "python"
  }
 },
 "nbformat": 4,
 "nbformat_minor": 2
}
