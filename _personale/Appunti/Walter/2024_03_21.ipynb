{
 "cells": [
  {
   "cell_type": "code",
   "execution_count": 8,
   "metadata": {},
   "outputs": [
    {
     "name": "stdout",
     "output_type": "stream",
     "text": [
      "è pari\n",
      "\n"
     ]
    },
    {
     "data": {
      "text/plain": [
       "True"
      ]
     },
     "execution_count": 8,
     "metadata": {},
     "output_type": "execute_result"
    }
   ],
   "source": [
    "# a = input('primo')\n",
    "# b = input('secondo')\n",
    "# \n",
    "# \n",
    "# print(\"Somma:\", a + b)\n",
    "# print(\"Differenza:\", a - b)\n",
    "# print(\"Prodotto:\", a * b)\n",
    "# print(\"Valore medio:\", (a + b)/2)\n",
    "# print(\"Distanza:\", abs(a - b))\n",
    "# print(\"Valore massimo:\", max(a, b))\n",
    "# print(\"Valore minimo:\", min(a, b))\n",
    "\n",
    "# ------------------------------------------------------------------------------ #\n",
    "\n",
    "# Indicare se un numero è divisibile per due\n",
    "\n",
    "\n",
    "mia_var = 32\n",
    "\n",
    "if mia_var % 2:\n",
    "    print('è dispari')\n",
    "else:\n",
    "    print('è pari')\n",
    "\n",
    "print()\n",
    "\n",
    "# Io l'avevo detto così parlando durante la lezione, l'idea era partita da qui\n",
    "\n",
    "not bool(34 % 2)"
   ]
  },
  {
   "cell_type": "code",
   "execution_count": 14,
   "metadata": {},
   "outputs": [
    {
     "ename": "TypeError",
     "evalue": "unsupported operand type(s) for /: 'str' and 'int'",
     "output_type": "error",
     "traceback": [
      "\u001b[0;31m---------------------------------------------------------------------------\u001b[0m",
      "\u001b[0;31mTypeError\u001b[0m                                 Traceback (most recent call last)",
      "Cell \u001b[0;32mIn[14], line 3\u001b[0m\n\u001b[1;32m      1\u001b[0m numero \u001b[38;5;241m=\u001b[39m \u001b[38;5;28minput\u001b[39m(\u001b[38;5;124m'\u001b[39m\u001b[38;5;124mInserisci un numero in base 10\u001b[39m\u001b[38;5;124m'\u001b[39m)\n\u001b[0;32m----> 3\u001b[0m \u001b[38;5;28;01mwhile\u001b[39;00m \u001b[38;5;28mint\u001b[39m(\u001b[43mnumero\u001b[49m\u001b[43m \u001b[49m\u001b[38;5;241;43m/\u001b[39;49m\u001b[43m \u001b[49m\u001b[38;5;241;43m2\u001b[39;49m ) \u001b[38;5;241m!=\u001b[39m \u001b[38;5;241m0\u001b[39m:\n\u001b[1;32m      4\u001b[0m     divisione \u001b[38;5;241m=\u001b[39m numero \u001b[38;5;241m/\u001b[39m \u001b[38;5;241m2\u001b[39m\n\u001b[1;32m      5\u001b[0m     \u001b[38;5;28mprint\u001b[39m(numero \u001b[38;5;241m%\u001b[39m \u001b[38;5;241m2\u001b[39m)\n",
      "\u001b[0;31mTypeError\u001b[0m: unsupported operand type(s) for /: 'str' and 'int'"
     ]
    }
   ],
   "source": [
    "numero = input('Inserisci un numero in base 10')\n",
    "\n",
    "while int(numero / 2 ) != 0:\n",
    "    divisione = numero / 2\n",
    "    print(numero % 2)\n",
    "    numero = divisione\n",
    "    "
   ]
  }
 ],
 "metadata": {
  "kernelspec": {
   "display_name": "Python 3",
   "language": "python",
   "name": "python3"
  },
  "language_info": {
   "codemirror_mode": {
    "name": "ipython",
    "version": 3
   },
   "file_extension": ".py",
   "mimetype": "text/x-python",
   "name": "python",
   "nbconvert_exporter": "python",
   "pygments_lexer": "ipython3",
   "version": "3.10.13"
  }
 },
 "nbformat": 4,
 "nbformat_minor": 2
}
