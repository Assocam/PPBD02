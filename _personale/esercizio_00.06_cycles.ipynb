{
 "cells": [
  {
   "cell_type": "markdown",
   "metadata": {},
   "source": [
    "# Esercizi introduttivi"
   ]
  },
  {
   "cell_type": "markdown",
   "metadata": {},
   "source": [
    "TEMI TRATTATI:\n",
    "\n",
    "- Cicli con `while` e `for`\n",
    "- Elaborazione di input e output complessi"
   ]
  },
  {
   "cell_type": "markdown",
   "metadata": {},
   "source": [
    "NOTE SULLO SVOLGIMENTO:\n",
    "- Puoi svolgere ed eseguire gli esercizi direttamente qua su questo notebook oppure su un normale file di script Python con estensione `.py`, eseguendolo nel terminale del sistema operativo con il comando `py mio_esercizio.py` (Windows) oppure `python3 mio_esercizio.py` (Linux o macOS)."
   ]
  },
  {
   "cell_type": "markdown",
   "metadata": {},
   "source": [
    "## Esercizio 1: Tutti i gli interi che vuoi\n",
    "\n",
    "Scrivere un programma che legga una sequenza di numeri interi (la sequenza termina quando viene inserita una stringa vuota) e che, dopo ogni nuova acquisizione, calcoli e visualizzi:\n",
    "\n",
    "1. le somme parziali di tutti i numeri acquisiti. Il programma deve visualizzare il risultato dei calcoli dopo ogni nuova acquisizione. Se, ad esempio, i valori in ingresso sono `1 7 2 9`, il programma visualizzerà la somma parziale dei numeri acquisiti dopo ogni acquisizione:\n",
    "    1. alla prima acquisizione (`1`), il primo valore acquisito:\n",
    "        - `Somma parziale: 1`\n",
    "    2. alla seconda acquisizione (`7`), la somma tra la prima e la seconda acquisizione:\n",
    "        - (1 + 7)\n",
    "        - `Somma parziale: 8`\n",
    "    3. alla terza acquisizione (`2`), la somma tra la prima, la seconda e la terza acquisizione:\n",
    "        - (1 + 7 + 2)\n",
    "        - `Somma parziale: 10`\n",
    "    4. alla quarta acquisizione (`9`), la somma tra la prima, la seconda, la terza e la quarta acquisizione:\n",
    "        - (1 + 7 + 2 + 9)\n",
    "        - `Somma parziale: 19`\n",
    "\n",
    "2. Il valore minimo e il valore massimo tra quelli acquisiti. Ad esempio, con `1 7 2 9`:\n",
    "    - `Valore massimo: 9`\n",
    "    - `Valore minimo: 1`\n",
    "\n",
    "3. Il numero di valori pari e il numero di valori dispari tra quelli acquisiti. Ad esempio, con `1 7 2 9`:\n",
    "    - `N. valori pari: 1`\n",
    "    - `N. valori dispari: 3`"
   ]
  },
  {
   "cell_type": "code",
   "execution_count": null,
   "metadata": {},
   "outputs": [],
   "source": [
    "# Scrivi qua il tuo codice \n",
    "numeri = []                                                        # lista\n",
    "somma = 0\n",
    "num_pari = 0\n",
    "num_dispari = 0\n",
    "\n",
    "while True:                                                       \n",
    "    # Chiedo all'utente di inserire un numero\n",
    "    user_input = input('Inserisci un numero e premi invio, '\n",
    "                    'oppure premi solo invio per terminare')\n",
    "    ...                                                            # Implementazione controlli prima del n intero\n",
    "\n",
    "    # Se l'input è una stringa vuota\n",
    "    if not user_input:                                             # Se non è piena\n",
    "        # Mi fermo\n",
    "        break\n",
    "    # Se l'input non è una stringa vuota.\n",
    "    else:\n",
    "        # Calcolo la somma parziale e la stampo\n",
    "        user_input = int(user_input)\n",
    "\n",
    "        if user_input % 2:\n",
    "         num_dispari += 1\n",
    "\n",
    "        else:\n",
    "         num_pari += 1\n",
    "         somma += user_input\n",
    "    # Conto i numeri pari\n",
    "    \n",
    "    # Conto i numeri dispari\n",
    "\n",
    "        # Continuo e chiedo un'altro numero\n",
    "    \n",
    "    numeri.append(user_input)\n",
    "    print('La somma parziale è:', somma)\n",
    "        \n",
    "\n",
    "    # Ora ho la mia lista di numeri\n",
    "print(numeri)\n",
    "\n",
    "    # Calcolo il min\n",
    "minimo = min(numeri)\n",
    "print('Il numero minimo è:', minimo)\n",
    "    # Calcolo il max\n",
    "massimo = max(numeri)\n",
    "\n",
    "print('Il numero massimo è:', massimo)\n",
    "print('I numeri pari sono:' , num_pari)\n",
    "print('I numeri dispari sono:', num_dispari)\n",
    "\n"
   ]
  },
  {
   "cell_type": "markdown",
   "metadata": {},
   "source": [
    "## Esercizio 2: Analisi di una stringa\n",
    "\n",
    "Scrivere un programma che legga una riga di testo in ingresso sotto forma di stringa e visualizzi quanto segue:\n",
    "\n",
    "- le sole lettere maiuscole della stringa;\n",
    "- le lettere in posizioni pari nella stringa;\n",
    "- la stessa stringa in cui, al posto delle vocali (maiuscole o minuscole), vi sia un underscore (_);\n",
    "- il numero di cifre numeriche presenti nella stringa;\n",
    "- le posizioni di tutte le vocali presenti nella stringa. "
   ]
  },
  {
   "cell_type": "code",
   "execution_count": null,
   "metadata": {},
   "outputs": [],
   "source": [
    "# Scrivi qua il tuo codice\n",
    "def solo_maiuscole(testo):\n",
    "    # Visualizza solo le lettere maiuscole della stringa\n",
    "    maiuscole = [carattere for carattere in testo if carattere.isupper()]\n",
    "    print(\"Lettere maiuscole:\", ''.join(maiuscole))\n",
    "\n",
    "def posizioni_pari(testo):\n",
    "    # Visualizza le lettere in posizioni pari nella stringa\n",
    "    pari = [testo[i] for i in range(len(testo)) if i % 2 == 0]\n",
    "    print(\"Lettere in posizioni pari:\", ''.join(pari))\n",
    "\n",
    "def sostituisci_vocali(testo):\n",
    "    # Sostituisci le vocali con '_'\n",
    "    vocali = 'aeiouAEIOU'\n",
    "    nuovo_testo = ''.join(['_' if carattere in vocali else carattere for carattere in testo])\n",
    "    print(\"Stringa con vocali sostituite:\", nuovo_testo)\n",
    "\n",
    "def conteggio_cifre(testo):\n",
    "    # Conta il numero di cifre numeriche nella stringa\n",
    "    cifre = sum(carattere.isdigit() for carattere in testo)\n",
    "    print(\"Numero di cifre numeriche presenti:\", cifre)\n",
    "\n",
    "def posizioni_vocali(testo):\n",
    "    # Visualizza le posizioni di tutte le vocali nella stringa\n",
    "    vocali = 'aeiouAEIOU'\n",
    "    posizioni = [i for i, carattere in enumerate(testo) if carattere in vocali]\n",
    "    print(\"Posizioni di tutte le vocali presenti:\", posizioni)\n",
    "\n",
    "def main():\n",
    "    # Leggi una riga di testo in ingresso\n",
    "    testo = input(\"Inserisci una riga di testo: \")\n",
    "    \n",
    "    solo_maiuscole(testo)\n",
    "    posizioni_pari(testo)\n",
    "    sostituisci_vocali(testo)\n",
    "    conteggio_cifre(testo)\n",
    "    posizioni_vocali(testo)\n",
    "\n",
    "if __name__ == \"__main__\":\n",
    "    main()\n"
   ]
  },
  {
   "cell_type": "code",
   "execution_count": 225,
   "metadata": {},
   "outputs": [
    {
     "name": "stdout",
     "output_type": "stream",
     "text": [
      "['P', 'L', 'T']\n",
      "['i', 'p', ' ', '2', ' ', 'L', 'T']\n",
      "P_pp_ 123 pL_T_\n",
      "3\n",
      "[(2, 'i'), (5, 'o'), (13, 'u'), (15, 'o')]\n"
     ]
    }
   ],
   "source": [
    "#  ESEMPIO 2\n",
    "#  le sole lettere maiuscole della stringa;\n",
    "#  le lettere in posizioni pari nella stringa;\n",
    "#  la stessa stringa in cui, al posto delle vocali (maiuscole o minuscole), vi sia un underscore (_);\n",
    "#  il numero di cifre numeriche presenti nella stringa;\n",
    "#  le posizioni di tutte le vocali presenti nella stringa.\n",
    "\n",
    "import re\n",
    "\n",
    "input_str = 'Pippo 123 pLuTo'\n",
    "maiuscole = []\n",
    "char_pari = []\n",
    "str_censurata = ''\n",
    "count_numeri = 0\n",
    "posizione_vocali = []\n",
    "\n",
    "for idx, char in enumerate(input_str):            # [(0, 'P'), (1, 'i')...]  lista di tuple con enumerate\n",
    "    if char.isupper():                            # controlla il carattere maiuscolo\n",
    "        maiuscole.append(char)\n",
    "\n",
    "    if (idx + 1) % 2 == 0:                        # controlla se il carattere è in posizione pari\n",
    "        char_pari.append(char)\n",
    "\n",
    "# Ricostruendo una nuova stringa\n",
    "    if char.lower() in 'aeiou':                   # Se la versione minuscola dei caratteri è\n",
    "        str_censurata += '_' \n",
    "        posizione_vocali.append((idx + 1, char))                   # contenuta nella stringa, me la censura con \"_\"\n",
    "                                                                   # Censura il carattere\n",
    "    else:\n",
    "        str_censurata += char  \n",
    "  \n",
    "    if char.isdigit():                                             # numero di cifre num presenti nella stringa                \n",
    "        count_numeri += 1\n",
    "\n",
    "str_censurata = re.sub('[aeiouAEIU]', '_', input_str)    # fa la stessa cosa di char.lower()\n",
    "\n",
    "# Esecuzione\n",
    "\n",
    "print(maiuscole)\n",
    "print(char_pari)\n",
    "print(str_censurata)\n",
    "print(count_numeri)\n",
    "print(posizione_vocali)\n",
    "\n"
   ]
  },
  {
   "cell_type": "markdown",
   "metadata": {},
   "source": [
    "## Esercizio 3: Quadrato e rombo\n",
    "\n",
    "Scrivere un programma che legga un numero intero `n` e visualizzi, usando asterischi `'*'`, un quadrato e un rombo pieni, il cui lato abbia lunghezza n.\n",
    "\n",
    "Se, ad esempio, l’utente fornisce il numero `4`, il programma deve visualizzare:\n",
    "\n",
    "```text\n",
    "****\n",
    "****\n",
    "****\n",
    "****\n",
    "\n",
    "   *\n",
    "  ***\n",
    " *****\n",
    "*******\n",
    " *****\n",
    "  ***\n",
    "   *\n",
    "```"
   ]
  },
  {
   "cell_type": "code",
   "execution_count": 18,
   "metadata": {},
   "outputs": [
    {
     "name": "stdout",
     "output_type": "stream",
     "text": [
      "\n",
      "\n",
      "****\n",
      "****\n",
      "****\n",
      "****\n",
      "\n",
      "\n",
      "   *\n",
      "  ***\n",
      " *****\n",
      "*******\n",
      " *****\n",
      "  ***\n",
      "   *\n"
     ]
    }
   ],
   "source": [
    "# Scrivi qua il tuo codice\n",
    "def stampa_quadrato(n):\n",
    "    # Stampa un quadrato di dimensioni n x n\n",
    "    for _ in range(n):\n",
    "        print('*' * n)\n",
    "\n",
    "def stampa_rombo(n):\n",
    "    # Stampa un rombo di dimensioni n x n\n",
    "    for i in range(n):\n",
    "        print(' ' * (n - i - 1) + '*' * (2 * i + 1))\n",
    "    for i in range(n - 2, -1, -1):\n",
    "        print(' ' * (n - i - 1) + '*' * (2 * i + 1))\n",
    "\n",
    "def main():\n",
    "    # Leggi un numero intero n\n",
    "    n = int(input(\"Inserisci un numero intero positivo: \"))\n",
    "    \n",
    "    print(\"\\nQuadrato:\")\n",
    "    stampa_quadrato(n)\n",
    "    \n",
    "    print(\"\\nRombo:\")\n",
    "    stampa_rombo(n)\n",
    "\n",
    "if __name__ == \"__main__\":\n",
    "    main()"
   ]
  },
  {
   "cell_type": "markdown",
   "metadata": {},
   "source": [
    "## Esercizio 4: Parole al contrario\n",
    "\n",
    "Scrivere un programma che legga una parola e visualizzi:\n",
    "\n",
    "- La parola al contrario. Se, ad esempio, l’utente fornisce la stringa `'Ciao'`, il programma deve visualizzare `'oaiC'`.\n",
    "\n",
    "- Le lettere maiuscole partendo dal fondo. Se, ad esempio, l’utente fornisce la stringa `'CiAo'`, il programma deve visualizzare `'AC'`."
   ]
  },
  {
   "cell_type": "code",
   "execution_count": 228,
   "metadata": {},
   "outputs": [
    {
     "name": "stdout",
     "output_type": "stream",
     "text": [
      "Lettere al contrario: oaiC\n",
      "Solo lettere maiuscole: AC\n"
     ]
    }
   ],
   "source": [
    "# Scrivi qua il tuo codice\n",
    "\n",
    "# Parola al contrario\n",
    "\n",
    "stringa = 'Ciao'\n",
    "parole = stringa.split()\n",
    "parole_invertite = stringa[::-1]\n",
    "stringa_invertita = ''.join(parole_invertite)\n",
    "\n",
    "# Parola al contrario solo maiuscole\n",
    "\n",
    "maiusc = 'CiAo'\n",
    "maiuscole = maiusc.isupper()\n",
    "maiuscole_invertite = maiusc[2] + maiusc[0]\n",
    "maiusc_invertita = ''.join(maiuscole_invertite)\n",
    "\n",
    "# Esecuzione programma\n",
    "\n",
    "print('Lettere al contrario:', stringa_invertita)\n",
    "print('Solo lettere maiuscole:', maiusc_invertita)\n"
   ]
  },
  {
   "cell_type": "code",
   "execution_count": 16,
   "metadata": {},
   "outputs": [
    {
     "name": "stdout",
     "output_type": "stream",
     "text": [
      "Parola al contrario: oaiC\n",
      "Lettere maiuscole partendo dal fondo: AC\n"
     ]
    }
   ],
   "source": [
    "# Esempio es2:\n",
    "\n",
    "# Input della parola dall'utente\n",
    "parola1 = 'Ciao'\n",
    "parola2 = 'CiAo'\n",
    "\n",
    "def parola_al_contrario(parola1):\n",
    "    return parola1[::-1]\n",
    "\n",
    "def lettere_maiuscole_inverso(parola2):\n",
    "    lettere_maiuscole = ''\n",
    "    for lettera in reversed(parola2):\n",
    "        if lettera.isupper():\n",
    "            lettere_maiuscole += lettera\n",
    "    return lettere_maiuscole\n",
    "\n",
    "\n",
    "# Visualizzazione della parola al contrario\n",
    "print(\"Parola al contrario:\", parola_al_contrario(parola1))\n",
    "\n",
    "# Visualizzazione delle lettere maiuscole partendo dal fondo\n",
    "print(\"Lettere maiuscole partendo dal fondo:\", lettere_maiuscole_inverso(parola2))\n"
   ]
  },
  {
   "cell_type": "markdown",
   "metadata": {},
   "source": [
    "## Esercizio 5: Spezzatino di parola\n",
    "\n",
    "Scrivere un programma che legga una parola e visualizzi tutte le sue sottostringhe, ordinate per lunghezza crescente.\n",
    "\n",
    "Se, ad esempio, l’utente fornisce la stringa `'rum'`, il programma deve visualizzare:\n",
    "\n",
    "```text\n",
    "r\n",
    "u\n",
    "m\n",
    "ru\n",
    "um\n",
    "rum\n",
    "```"
   ]
  },
  {
   "cell_type": "code",
   "execution_count": 3,
   "metadata": {},
   "outputs": [
    {
     "name": "stdout",
     "output_type": "stream",
     "text": [
      "Sottostringhe ordinate per lunghezza crescente:\n",
      "r\n",
      "u\n",
      "m\n",
      "ru\n",
      "um\n",
      "rum\n"
     ]
    }
   ],
   "source": [
    "# Scrivi qua il tuo codice\n",
    "\n",
    "# Input della parola dall'utente\n",
    "parola = input(\"Inserisci una parola: \")\n",
    "\n",
    "def sottostringhe(parola):\n",
    "    sottostringhe_list = []\n",
    "    for i in range(len(parola)):\n",
    "        for j in range(i+1, len(parola)+1):\n",
    "            sottostringhe_list.append(parola[i:j])\n",
    "    return sorted(sottostringhe_list, key=len)\n",
    "\n",
    "\n",
    "# Calcolo e visualizzazione delle sottostringhe ordinate per lunghezza crescente\n",
    "print(\"Sottostringhe ordinate per lunghezza crescente:\")\n",
    "for substr in sottostringhe(parola):\n",
    "    print(substr)\n"
   ]
  },
  {
   "cell_type": "markdown",
   "metadata": {},
   "source": [
    "## Esercizio 6: PIN\n",
    "\n",
    "Quando utilizzate uno sportello bancario automatico (ATM, Automatic Teller Machine) con la vostra carta, dovete usare un numero identificativo personale (PIN, Personal Identification Number) per poter accedere al vostro conto.\n",
    "\n",
    "Se un utente sbaglia tre volte l’inserimento del PIN, la macchina trattiene la carta e la blocca.\n",
    "\n",
    "Nell’ipotesi che il PIN dell’utente sia `1234`, scrivere un programma che chieda all’utente di digitare il PIN, consentendo al massimo tre tentativi e funzioni in questo modo:\n",
    "\n",
    "- Quando l’utente inserisce il numero corretto, visualizza il messaggio`'Your PIN is correct'` e termina.\n",
    "- Quando l’utente inserisce un numero sbagliato, visualizza il messaggio `'Your PIN is incorrect'` e, se ha chiesto il PIN meno di tre volte, lo chiede di nuovo.\n",
    "- Quando l’utente inserisce un numero sbagliato per la terza volta, visualizza il messaggio `'Your bank card is blocked'` e termina il programma."
   ]
  },
  {
   "cell_type": "code",
   "execution_count": 5,
   "metadata": {},
   "outputs": [
    {
     "name": "stdout",
     "output_type": "stream",
     "text": [
      "Your PIN is incorrect\n",
      "Your PIN is incorrect\n",
      "Your PIN is incorrect\n",
      "Your bank card is blocked\n"
     ]
    },
    {
     "data": {
      "text/plain": [
       "False"
      ]
     },
     "execution_count": 5,
     "metadata": {},
     "output_type": "execute_result"
    }
   ],
   "source": [
    "# Scrivi qua il tuo codice\n",
    "\n",
    "def verifica_pin(pin_corretto, max_tentativi):\n",
    "    tentativi = 0\n",
    "    while tentativi < max_tentativi:\n",
    "        pin_inserito = input(\"Inserisci il tuo PIN: \")\n",
    "        if pin_inserito == pin_corretto:\n",
    "            print(\"Your PIN is correct\")\n",
    "            return True\n",
    "        else:\n",
    "            print(\"Your PIN is incorrect\")\n",
    "            tentativi += 1\n",
    "    print(\"Your bank card is blocked\")\n",
    "    return False\n",
    "\n",
    "pin_corretto = \"1234\"\n",
    "max_tentativi = 3\n",
    "\n",
    "verifica_pin(pin_corretto, max_tentativi)\n",
    "\n"
   ]
  }
 ],
 "metadata": {
  "kernelspec": {
   "display_name": ".venv",
   "language": "python",
   "name": "python3"
  },
  "language_info": {
   "codemirror_mode": {
    "name": "ipython",
    "version": 3
   },
   "file_extension": ".py",
   "mimetype": "text/x-python",
   "name": "python",
   "nbconvert_exporter": "python",
   "pygments_lexer": "ipython3",
   "version": "3.10.13"
  }
 },
 "nbformat": 4,
 "nbformat_minor": 2
}
