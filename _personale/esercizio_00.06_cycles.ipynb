{
 "cells": [
  {
   "cell_type": "markdown",
   "metadata": {},
   "source": [
    "# Esercizi introduttivi"
   ]
  },
  {
   "cell_type": "markdown",
   "metadata": {},
   "source": [
    "TEMI TRATTATI:\n",
    "\n",
    "- Cicli con `while` e `for`\n",
    "- Elaborazione di input e output complessi"
   ]
  },
  {
   "cell_type": "markdown",
   "metadata": {},
   "source": [
    "NOTE SULLO SVOLGIMENTO:\n",
    "- Puoi svolgere ed eseguire gli esercizi direttamente qua su questo notebook oppure su un normale file di script Python con estensione `.py`, eseguendolo nel terminale del sistema operativo con il comando `py mio_esercizio.py` (Windows) oppure `python3 mio_esercizio.py` (Linux o macOS)."
   ]
  },
  {
   "cell_type": "markdown",
   "metadata": {},
   "source": [
    "## Esercizio 1: Tutti i gli interi che vuoi\n",
    "\n",
    "Scrivere un programma che legga una sequenza di numeri interi (la sequenza termina quando viene inserita una stringa vuota) e che, dopo ogni nuova acquisizione, calcoli e visualizzi:\n",
    "\n",
    "1. le somme parziali di tutti i numeri acquisiti. Il programma deve visualizzare il risultato dei calcoli dopo ogni nuova acquisizione. Se, ad esempio, i valori in ingresso sono `1 7 2 9`, il programma visualizzerà la somma parziale dei numeri acquisiti dopo ogni acquisizione:\n",
    "    1. alla prima acquisizione (`1`), il primo valore acquisito:\n",
    "        - `Somma parziale: 1`\n",
    "    2. alla seconda acquisizione (`7`), la somma tra la prima e la seconda acquisizione:\n",
    "        - (1 + 7)\n",
    "        - `Somma parziale: 8`\n",
    "    3. alla terza acquisizione (`2`), la somma tra la prima, la seconda e la terza acquisizione:\n",
    "        - (1 + 7 + 2)\n",
    "        - `Somma parziale: 10`\n",
    "    4. alla quarta acquisizione (`9`), la somma tra la prima, la seconda, la terza e la quarta acquisizione:\n",
    "        - (1 + 7 + 2 + 9)\n",
    "        - `Somma parziale: 19`\n",
    "\n",
    "2. Il valore minimo e il valore massimo tra quelli acquisiti. Ad esempio, con `1 7 2 9`:\n",
    "    - `Valore massimo: 9`\n",
    "    - `Valore minimo: 1`\n",
    "\n",
    "3. Il numero di valori pari e il numero di valori dispari tra quelli acquisiti. Ad esempio, con `1 7 2 9`:\n",
    "    - `N. valori pari: 1`\n",
    "    - `N. valori dispari: 3`"
   ]
  },
  {
   "cell_type": "code",
   "execution_count": 8,
   "metadata": {},
   "outputs": [
    {
     "name": "stdout",
     "output_type": "stream",
     "text": [
      "La somma parziale è: 5\n",
      "La somma parziale è: 7\n",
      "La somma parziale è: 11\n",
      "La somma parziale è: 17\n",
      "La somma parziale è: 25\n",
      "La somma parziale è: 35\n",
      "Ho creato una lista: [5, 2, 4, 6, 8, 10].\n",
      "Valore massimo: 10\n",
      "Valore minimo: 2\n",
      "Numero di valori pari: 5 - Ecco quali sono: [2, 4, 6, 8, 10]\n",
      "Numero di valori dispari: {valori_dispari} - Ecco quali sono: {lista_dispari}\n"
     ]
    }
   ],
   "source": [
    "# PSEUDOCODICE:\n",
    "\n",
    "# Chiedo all'utente di inserire un numero\n",
    "# Se l'input è una stringa vuota:\n",
    "    # Mi fermo\n",
    "# Se l'input non è una stringa vuota:\n",
    "    # Calcolo e stampo la sommatoria parziale e continuo e chiedo un altro numero\n",
    "\n",
    "# Ora ho una lista di numeri\n",
    "\n",
    "# Calcolo il min\n",
    "# Calcolo il max\n",
    "# Conto i numeri pari \n",
    "# Conto i numeri dispari\n",
    "\n",
    "numeri = []\n",
    "lista_pari = []\n",
    "lista_dispari = []\n",
    "somma = 0                      # La somma parte da 0\n",
    "\n",
    "while True:\n",
    "\n",
    "    user_input = (input(\n",
    "        'Inserisci un numero e premi invio, '\n",
    "        'oppure premi solo invio per terminare: ')\n",
    "        )\n",
    "  \n",
    "    if not user_input:                 # If user_input --> se è piena è vero, se è vuota è falso (truthy or falsy)\n",
    "        break                          # Se la stringa è vuota mi fermo ed esco dal ciclo, vado dopo riga 32\n",
    "    else:\n",
    "        user_input = int(user_input)   # Implementazione eventuali controlli prima della conversione in intero\n",
    "        somma += user_input            # somma = somma + user input\n",
    "        print(f'La somma parziale è: {somma}')\n",
    "    \n",
    "    numeri.append(user_input)      # Inserisco nella lista il numero inserito dall'utente\n",
    "        \n",
    "\n",
    "max_lista = max(numeri)\n",
    "min_lista = min(numeri)\n",
    "\n",
    "\n",
    "print(f'Ho creato una lista dei numeri che hai inserito: {numeri}.')\n",
    "print(f'Valore massimo: {max_lista}\\nValore minimo: {min_lista}')\n",
    "\n",
    "\n",
    "valori_pari = 0\n",
    "valori_dispari = 0\n",
    "\n",
    "for num in numeri:\n",
    "    if num % 2:      # Quando non si mettono condizioni solitamente vuol dire implicitamente vero, quindi che % da valore pieno, ovvero\n",
    "                     # c'è resto, quindi che è dispari\n",
    "        valori_dispari += 1\n",
    "        lista_dispari.append(num)\n",
    "    else:\n",
    "        valori_pari += 1\n",
    "        lista_pari.append(num)\n",
    "\n",
    "\n",
    "# prova mia senza for\n",
    "# valori_pari += 1 if user_input % 2 == 0 else valori_pari\n",
    "# valori_dispari += 1 if user_input % 2 != 0 else valori_dispari\n",
    "\n",
    "print(f'Numero di valori pari: {valori_pari} - Ecco quali sono --> {lista_pari}\\n'\n",
    "      f'Numero di valori dispari: {valori_dispari} - Ecco quali sono --> {lista_dispari}')\n",
    "\n",
    "\n",
    "\n",
    "\n"
   ]
  },
  {
   "cell_type": "markdown",
   "metadata": {},
   "source": [
    "## Esercizio 2: Analisi di una stringa\n",
    "\n",
    "Scrivere un programma che legga una riga di testo in ingresso sotto forma di stringa e visualizzi quanto segue:\n",
    "\n",
    "- le sole lettere maiuscole della stringa;\n",
    "- le lettere in posizioni pari nella stringa;\n",
    "- la stessa stringa in cui, al posto delle vocali (maiuscole o minuscole), vi sia un underscore (_);\n",
    "- il numero di cifre numeriche presenti nella stringa;\n",
    "- le posizioni di tutte le vocali presenti nella stringa. "
   ]
  },
  {
   "cell_type": "code",
   "execution_count": 102,
   "metadata": {},
   "outputs": [
    {
     "name": "stdout",
     "output_type": "stream",
     "text": [
      "['P', 'L', 'T']\n",
      "['i', 'p', ' ', '2', ' ', 'L', 'T']\n"
     ]
    }
   ],
   "source": [
    "# Scrivi qua il tuo codice\n",
    "\n",
    "parola = 'Pippo 123 pLuTo'\n",
    "# parola = input('Scrivi una parola: ')\n",
    "maiuscole = []\n",
    "pari = []\n",
    "\n",
    "count = 1\n",
    "for p in parola:\n",
    "    if p.isupper():\n",
    "        maiuscole.append(p)\n",
    "\n",
    "    if count % 2 == 0:\n",
    "        pari.append(p)\n",
    "\n",
    "    count += 1\n",
    "        \n",
    "print(maiuscole)\n",
    "print(pari)\n",
    "\n",
    "# print(parola[1:len(parola):2])          Fuori dal ciclo for lo posso fare così\n"
   ]
  },
  {
   "cell_type": "code",
   "execution_count": 145,
   "metadata": {},
   "outputs": [
    {
     "name": "stdout",
     "output_type": "stream",
     "text": [
      "Lettere maiuscole della stringa: ['P', 'L', 'T']\n",
      "Lettere in posizione pari: ['i', 'p', ' ', '2', ' ', 'L', 'T']\n",
      "Stringa censurata: P_pp_ 123 pL_T_\n",
      "Numero cifre numeriche: 3 --> ['1', '2', '3']\n",
      "Posizione delle vocali nella stringa per python: [(2, 'i'), (5, 'o'), (13, 'u'), (15, 'o')]\n"
     ]
    }
   ],
   "source": [
    "parola = 'Pippo 123 pLuTo'\n",
    "# parola = input('Scrivi una parola: ')\n",
    "maiuscole = []\n",
    "pari = []\n",
    "str_censurata = ''\n",
    "numeri = []\n",
    "posizione_vocali = []\n",
    "vocali = []\n",
    "\n",
    "\n",
    "# Per evitare di usare un ciclo for possiamo usare idx:\n",
    "\n",
    "for idx, p in enumerate(parola):           # idx è un indice, enumerate da una tupla di indice e valore, da lista di tuple\n",
    "    if p.isupper():                        # (0, 'P'), (1, 'i'), (2, 'p'), (3, 'p'), (4, 'o')....\n",
    "        maiuscole.append(p)\n",
    "\n",
    "    if (idx+1) % 2 == 0:                   # verifica che carattere sia in posizione pari\n",
    "        pari.append(p)\n",
    "\n",
    "    if p.lower() in 'aeiou':               # controllo delle vocali - A partire dalla prima concatena:\n",
    "        str_censurata += '_'               # se è una vocale concatena la lettera precedente con '_'\n",
    "    else:                                  \n",
    "        str_censurata += p                 # altrimenti concatena con la consonante\n",
    "\n",
    "    if p.isdigit():                        # controllo dei numeri  \n",
    "        numeri.append(p)\n",
    "\n",
    "    if p.lower() in 'aeiou':               \n",
    "        posizione_vocali.append((idx + 1, p))\n",
    "        vocali.append(p)\n",
    "\n",
    "print(f'Lettere maiuscole della stringa: {maiuscole}\\n'\n",
    "      f'Lettere in posizione pari: {pari}\\n'\n",
    "      f'Stringa censurata: {str_censurata}\\n'\n",
    "      f'Numero cifre numeriche: {len(numeri)} --> {numeri}\\n'\n",
    "      f'Posizione delle vocali nella stringa per python: {posizione_vocali}')\n",
    "\n",
    "\n",
    "\n"
   ]
  },
  {
   "cell_type": "code",
   "execution_count": 104,
   "metadata": {},
   "outputs": [
    {
     "data": {
      "text/plain": [
       "[(0, 'P'),\n",
       " (1, 'i'),\n",
       " (2, 'p'),\n",
       " (3, 'p'),\n",
       " (4, 'o'),\n",
       " (5, ' '),\n",
       " (6, '1'),\n",
       " (7, '2'),\n",
       " (8, '3'),\n",
       " (9, ' '),\n",
       " (10, 'p'),\n",
       " (11, 'L'),\n",
       " (12, 'u'),\n",
       " (13, 'T'),\n",
       " (14, 'o')]"
      ]
     },
     "execution_count": 104,
     "metadata": {},
     "output_type": "execute_result"
    }
   ],
   "source": [
    "input_str = 'Pippo 123 pLuTo'\n",
    "list(enumerate(input_str))\n",
    "\n",
    "idx, p = (0, 'P')"
   ]
  },
  {
   "cell_type": "code",
   "execution_count": 108,
   "metadata": {},
   "outputs": [
    {
     "data": {
      "text/plain": [
       "'__hh_f_h_______f_'"
      ]
     },
     "execution_count": 108,
     "metadata": {},
     "output_type": "execute_result"
    }
   ],
   "source": [
    "str_init = 'aihhifiheEEEaaafe'\n",
    "\n",
    "#for vocale in ['a', 'e', 'i', 'o', 'u', 'A', 'E', 'I', 'O', 'U']:\n",
    "\n",
    "for vocale in 'aeiouAEIOU':\n",
    "    str_init = str_init.replace(vocale, '_')\n",
    "\n",
    "str_init"
   ]
  },
  {
   "cell_type": "markdown",
   "metadata": {},
   "source": [
    "## Esercizio 3: Quadrato e rombo\n",
    "\n",
    "Scrivere un programma che legga un numero intero `n` e visualizzi, usando asterischi `'*'`, un quadrato e un rombo pieni, il cui lato abbia lunghezza n.\n",
    "\n",
    "Se, ad esempio, l’utente fornisce il numero `4`, il programma deve visualizzare:\n",
    "\n",
    "```text\n",
    "****\n",
    "****\n",
    "****\n",
    "****\n",
    "\n",
    "   *\n",
    "  ***\n",
    " *****\n",
    "*******\n",
    " *****\n",
    "  ***\n",
    "   *\n",
    "```"
   ]
  },
  {
   "cell_type": "code",
   "execution_count": 153,
   "metadata": {},
   "outputs": [
    {
     "name": "stdout",
     "output_type": "stream",
     "text": [
      "Io sono un \"quadrato\" di lato 4 :(\n",
      "\n",
      "****\n",
      "****\n",
      "****\n",
      "****\n",
      "\n",
      "Invece io sono un rombo di lato 4 :)\n",
      "\n",
      "   *   \n",
      "  ***  \n",
      " ***** \n",
      "*******\n",
      " ***** \n",
      "  ***  \n",
      "   *   \n"
     ]
    }
   ],
   "source": [
    "# Scrivi qua il tuo codice\n",
    "\n",
    "lato = input('Inserire un numero intero per il lato: ')\n",
    "n = int(lato)\n",
    "simbolo_1 = '*'\n",
    "simbolo_2 = ' '\n",
    "\n",
    "riga_quadrato = 0\n",
    "riga_rombo = 1\n",
    "\n",
    "# Disegno di un \"quadrato\"\n",
    "\n",
    "print(f'Io sono un \"quadrato\" di lato {n} :(\\n')\n",
    "\n",
    "while riga_quadrato < n:\n",
    "    print(n*simbolo_1)\n",
    "    riga_quadrato += 1\n",
    "\n",
    "print()\n",
    "\n",
    "# Disegno di un rombo\n",
    "\n",
    "print(f'Invece io sono un rombo di lato {n} :)\\n')\n",
    "\n",
    "while riga_rombo < 2*n:\n",
    "    if riga_rombo < n + 1:\n",
    "        print(f'{(n-riga_rombo)*simbolo_2}{(riga_rombo*2-1)*simbolo_1}'\n",
    "              f'{(n-riga_rombo)*simbolo_2}')\n",
    "    \n",
    "    riga_rombo += 1\n",
    "\n",
    "while riga_rombo > 0:\n",
    "        if riga_rombo < n:\n",
    "             print(f'{(n-riga_rombo)*simbolo_2}{(riga_rombo*2-1)*simbolo_1}'\n",
    "                   f'{(n-riga_rombo)*simbolo_2}')\n",
    "    \n",
    "        riga_rombo -= 1\n",
    "\n",
    "\n"
   ]
  },
  {
   "cell_type": "markdown",
   "metadata": {},
   "source": [
    "## Esercizio 4: Parole al contrario\n",
    "\n",
    "Scrivere un programma che legga una parola e visualizzi:\n",
    "\n",
    "- La parola al contrario. Se, ad esempio, l’utente fornisce la stringa `'Ciao'`, il programma deve visualizzare `'oaiC'`.\n",
    "\n",
    "- Le lettere maiuscole partendo dal fondo. Se, ad esempio, l’utente fornisce la stringa `'CiAo'`, il programma deve visualizzare `'AC'`."
   ]
  },
  {
   "cell_type": "code",
   "execution_count": null,
   "metadata": {},
   "outputs": [],
   "source": [
    "# Scrivi qua il tuo codice\n"
   ]
  },
  {
   "cell_type": "markdown",
   "metadata": {},
   "source": [
    "## Esercizio 5: Spezzatino di parola\n",
    "\n",
    "Scrivere un programma che legga una parola e visualizzi tutte le sue sottostringhe, ordinate per lunghezza crescente.\n",
    "\n",
    "Se, ad esempio, l’utente fornisce la stringa `'rum'`, il programma deve visualizzare:\n",
    "\n",
    "```text\n",
    "r\n",
    "u\n",
    "m\n",
    "ru\n",
    "um\n",
    "rum\n",
    "```"
   ]
  },
  {
   "cell_type": "code",
   "execution_count": 85,
   "metadata": {},
   "outputs": [
    {
     "name": "stdout",
     "output_type": "stream",
     "text": [
      "c\n",
      "i\n",
      "a\n",
      "o\n",
      "i\n",
      "a\n",
      "o\n",
      "\n"
     ]
    }
   ],
   "source": [
    "# Scrivi qua il tuo codice\n",
    "\n",
    "parola = input('Inserisci una parola: ')\n",
    "\n",
    "a = 0\n",
    "b = 1\n",
    "\n",
    "for p in parola: \n",
    "    print(p)\n",
    "\n",
    "while b <= len(parola):\n",
    "    a += 1\n",
    "    b += 1\n",
    "    print(parola[a:b])"
   ]
  },
  {
   "cell_type": "markdown",
   "metadata": {},
   "source": [
    "## Esercizio 6: PIN\n",
    "\n",
    "Quando utilizzate uno sportello bancario automatico (ATM, Automatic Teller Machine) con la vostra carta, dovete usare un numero identificativo personale (PIN, Personal Identification Number) per poter accedere al vostro conto.\n",
    "\n",
    "Se un utente sbaglia tre volte l’inserimento del PIN, la macchina trattiene la carta e la blocca.\n",
    "\n",
    "Nell’ipotesi che il PIN dell’utente sia `1234`, scrivere un programma che chieda all’utente di digitare il PIN, consentendo al massimo tre tentativi e funzioni in questo modo:\n",
    "\n",
    "- Quando l’utente inserisce il numero corretto, visualizza il messaggio`'Your PIN is correct'` e termina.\n",
    "- Quando l’utente inserisce un numero sbagliato, visualizza il messaggio `'Your PIN is incorrect'` e, se ha chiesto il PIN meno di tre volte, lo chiede di nuovo.\n",
    "- Quando l’utente inserisce un numero sbagliato per la terza volta, visualizza il messaggio `'Your bank card is blocked'` e termina il programma."
   ]
  },
  {
   "cell_type": "code",
   "execution_count": null,
   "metadata": {},
   "outputs": [],
   "source": [
    "# Scrivi qua il tuo codice\n"
   ]
  }
 ],
 "metadata": {
  "kernelspec": {
   "display_name": ".venv",
   "language": "python",
   "name": "python3"
  },
  "language_info": {
   "codemirror_mode": {
    "name": "ipython",
    "version": 3
   },
   "file_extension": ".py",
   "mimetype": "text/x-python",
   "name": "python",
   "nbconvert_exporter": "python",
   "pygments_lexer": "ipython3",
   "version": "3.12.2"
  }
 },
 "nbformat": 4,
 "nbformat_minor": 2
}
