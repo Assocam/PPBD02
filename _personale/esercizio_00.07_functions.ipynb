{
 "cells": [
  {
   "cell_type": "markdown",
   "metadata": {},
   "source": [
    "# Esercizi introduttivi"
   ]
  },
  {
   "cell_type": "markdown",
   "metadata": {},
   "source": [
    "TEMI TRATTATI:\n",
    "\n",
    "- Progettazione e implementazione di funzioni\n",
    "    - Passaggio dei parametri\n",
    "    - Uso della keyword `return`\n",
    "- Applicare il perfezionamento graduale (*stepwise refinement*) per scomporre operazioni complesse in operazioni più semplici\n",
    "    - Progettare più funzioni da utilizzare insieme\n",
    "    - L’ambito di visibilità (scope) di una variabile\n"
   ]
  },
  {
   "cell_type": "markdown",
   "metadata": {},
   "source": [
    "NOTE SULLO SVOLGIMENTO:\n",
    "- Puoi svolgere ed eseguire gli esercizi direttamente qua su questo notebook oppure su un normale file di script Python con estensione `.py`, eseguendolo nel terminale del sistema operativo con il comando `py mio_esercizio.py` (Windows) oppure `python3 mio_esercizio.py` (Linux o macOS)."
   ]
  },
  {
   "cell_type": "markdown",
   "metadata": {},
   "source": [
    "## Esercizio 1: Quante vocali?\n",
    "\n",
    "Scrivere la seguente funzione:\n",
    "\n",
    "```python\n",
    "def conta_vocali(testo):\n",
    "    ...\n",
    "```\n",
    "\n",
    "Questa funzione deve restituire il numero di vocali presenti nella stringa `testo`. \n",
    "\n",
    "Le vocali sono le lettere `a`, `e`, `i`, `o` e `u` e le rispettive versioni maiuscole.\n",
    "\n",
    "Ad esempio, `conta_vocali('Pippo Pluto e Paperino')` deve restituire `9`.\n",
    "\n",
    "Ricorda di testare la funzione invocandola in modo corretto e passandole la stringa da analizzare.\n",
    "\n",
    "**VARIANTE+:** Come si potrebbe estendere l’esercizio in modo da trattare correttamente delle stringhe in cui siano presenti anche le vocali accentate?"
   ]
  },
  {
   "cell_type": "code",
   "execution_count": 10,
   "metadata": {},
   "outputs": [
    {
     "name": "stdout",
     "output_type": "stream",
     "text": [
      "Hai inserito la seguente frase: \"mia stringa blah blah\" - Numero di vocali trovate: 6\n"
     ]
    }
   ],
   "source": [
    "# Scrivi qua il tuo codice\n",
    "\n",
    "def conta_vocali(testo):\n",
    "    count = 0\n",
    "    for lettera in testo:\n",
    "#       if lettera in ['a', 'e', 'i', 'o', 'u', 'A', 'E', 'I', 'O', 'U']:\n",
    "        if lettera.lower() in 'aeiou':   # faccio in minuscolo l'eventuale input\n",
    "            count += 1\n",
    "    return count\n",
    "\n",
    "frase = input('Inserisci una frase e conta le vocali: ')\n",
    "print(f'Hai inserito la seguente frase: \"{frase}\" - Numero di vocali trovate: {conta_vocali(frase)}')\n"
   ]
  },
  {
   "cell_type": "code",
   "execution_count": 13,
   "metadata": {},
   "outputs": [
    {
     "name": "stdout",
     "output_type": "stream",
     "text": [
      "Hai inserito la seguente frase: \"mia stringA blah blah\" - Numero di vocali trovate: 6\n"
     ]
    }
   ],
   "source": [
    "# Ciclando le vocali, facciamo 5 cicli for (aeiou):\n",
    "\n",
    "def conta_vocali(testo):\n",
    "    count = 0\n",
    "    for v in 'aeiou':                         # o scriviamo 'aeiouAEIOU' o trasformiamo la stringa per ridurre i cicli\n",
    "        count += testo.lower().count(v)       # aggiungendo .lower()\n",
    "    return count\n",
    "\n",
    "frase = input('Inserisci una frase e conta le vocali: ')\n",
    "print(f'Hai inserito la seguente frase: \"{frase}\" - Numero di vocali trovate: {conta_vocali(frase)}')"
   ]
  },
  {
   "cell_type": "markdown",
   "metadata": {},
   "source": [
    "## Esercizio 2: Quante parole?\n",
    "\n",
    "Scrivere la seguente funzione: \n",
    "\n",
    "```python\n",
    "def conta_parole(testo):\n",
    "    ...\n",
    "```\n",
    "\n",
    "Questa funzione deve restituire il numero di parole presenti nella stringa `testo`.\n",
    "\n",
    "Le parole sono sequenze di caratteri separate da spazi (si ipotizzi che tra due parole consecutive vi sia esattamente uno spazio).\n",
    "\n",
    "Ad esempio, `conta_parole('Pippo Pluto e Paperino')` deve restituire 4.\n",
    "\n",
    "**VARIANTE+:** Come si potrebbe estendere l’esercizio in modo da trattare correttamente delle stringhe in cui siano presenti più spazi tra le parole?"
   ]
  },
  {
   "cell_type": "code",
   "execution_count": 21,
   "metadata": {},
   "outputs": [
    {
     "name": "stdout",
     "output_type": "stream",
     "text": [
      "Hai inserito la seguente frase: \"Pippo Pluto e Paperino\" - Numero di parole trovate: 4\n"
     ]
    }
   ],
   "source": [
    "# Scrivi qua il tuo codice\n",
    "\n",
    "def conta_parole(testo):\n",
    "    return len(testo.split())\n",
    "\n",
    "frase = input('Scrivi una frase: ')\n",
    "print(f'Hai inserito la seguente frase: \"{frase}\" - Numero di parole trovate: {conta_parole(frase)}')    \n",
    "\n"
   ]
  },
  {
   "cell_type": "markdown",
   "metadata": {},
   "source": [
    "## Esercizio 3: Python come Excel\n",
    "\n",
    "### Parte 1: Espressioni e variabili in Excel e Python\n",
    "\n",
    "1. Apri un nuovo foglio di calcolo Excel.\n",
    "2. In A1, inserisci il valore `10`.\n",
    "3. In A2, inserisci il valore `20`.\n",
    "4. In A3, inserisci la formula `=A1 + A2`. Questo corrisponde all'espressione `A1 + A2` che viene valutata.\n",
    "\n",
    "   In Python, questo potrebbe essere paragonato a:\n",
    "   ```python\n",
    "   A1 = 10\n",
    "   A2 = 20\n",
    "   A3 = A1 + A2\n",
    "   print(A3)\n",
    "   ```\n",
    "\n",
    "5. Ora, in A4, assegna `=A3 * 2`. Questo può essere visto come una variabile che tiene traccia di un valore calcolato in precedenza (in questo caso, `A3`) e lo utilizza in un'altra espressione.\n",
    "\n",
    "   In Python, questo sarebbe simile a:\n",
    "   ```python\n",
    "   A4 = A3 * 2\n",
    "   print(A4)\n",
    "   ```"
   ]
  },
  {
   "cell_type": "markdown",
   "metadata": {},
   "source": [
    "### Parte 2: Funzioni, argomenti e valore di ritorno in Excel e Python\n",
    "\n",
    "1. Apri il foglio di calcolo Excel usato precedentemente.\n",
    "2. In B1, inserisci il valore `10`.\n",
    "3. In B2, inserisci il valore `20`.\n",
    "4. In B3, inserisci il valore `30`.\n",
    "5. In B4, inserisci la funzione `=MEDIA(B1:B3)`. Questo calcola la media dei valori nelle celle B1 fino a B3.\n",
    "\n",
    "   In Python, la prima scrittura potrebbe essere paragonata a:\n",
    "   ```python\n",
    "   def calcola_media(numeri):\n",
    "      return sum(numeri) / len(numeri)\n",
    "\n",
    "   # Usando la funzione\n",
    "   numeri = [10, 20, 30]\n",
    "   media = calcola_media(numeri)\n",
    "   print(f\"La media è: {media}\")\n",
    "   ```\n",
    "   In Excel, l'argomento è l'**intervallo** di celle B1:B3. In Python, l'argomento è solo una lista `[10, 20, 30]`.\n",
    "\n",
    "6. In C4, inserisci la funzione `=MEDIA(B1;B2;B3)`. Questo calcola sempre la media, ma ciascuna cella è stata passate come argomento separato; si possono passare quanti argomenti si vuole.\n",
    "\n",
    "   Questa seconda modalità invece potrebbe essere resa con gli `*args`:\n",
    "   ```python\n",
    "   def calcola_media(*numeri):             # packing --> tupla\n",
    "      return sum(numeri) / len(numeri)\n",
    "\n",
    "   # Usando la funzione\n",
    "   media = calcola_media(10, 20, 30)\n",
    "   # media = calcola_media(*[10, 20, 30])  # unpacking --> argomenti\n",
    "   print(f\"La media è: {media}\")\n",
    "   ```\n",
    "   In Excel, gli argomenti sono le celle B1;B2;B3. In Python, gli argomenti sono `10, 20, 30` ma avremmo potuto inserire un numero di argomenti a piacere."
   ]
  },
  {
   "cell_type": "code",
   "execution_count": 23,
   "metadata": {},
   "outputs": [
    {
     "name": "stdout",
     "output_type": "stream",
     "text": [
      "La media è: 20.0\n"
     ]
    }
   ],
   "source": [
    "def calcola_media(numeri):\n",
    "   return sum(numeri) / len(numeri)\n",
    "\n",
    "# Usando la funzione\n",
    "numeri = [10, 20, 30]\n",
    "media = calcola_media(numeri)\n",
    "print(f\"La media è: {media}\")"
   ]
  },
  {
   "cell_type": "code",
   "execution_count": 24,
   "metadata": {},
   "outputs": [
    {
     "ename": "TypeError",
     "evalue": "calcola_media() takes 1 positional argument but 3 were given",
     "output_type": "error",
     "traceback": [
      "\u001b[1;31m---------------------------------------------------------------------------\u001b[0m",
      "\u001b[1;31mTypeError\u001b[0m                                 Traceback (most recent call last)",
      "Cell \u001b[1;32mIn[24], line 4\u001b[0m\n\u001b[0;32m      1\u001b[0m \u001b[38;5;28;01mdef\u001b[39;00m \u001b[38;5;21mcalcola_media\u001b[39m(numeri):\n\u001b[0;32m      2\u001b[0m    \u001b[38;5;28;01mreturn\u001b[39;00m \u001b[38;5;28msum\u001b[39m(numeri) \u001b[38;5;241m/\u001b[39m \u001b[38;5;28mlen\u001b[39m(numeri)\n\u001b[1;32m----> 4\u001b[0m media \u001b[38;5;241m=\u001b[39m \u001b[43mcalcola_media\u001b[49m\u001b[43m(\u001b[49m\u001b[38;5;241;43m10\u001b[39;49m\u001b[43m,\u001b[49m\u001b[43m \u001b[49m\u001b[38;5;241;43m20\u001b[39;49m\u001b[43m,\u001b[49m\u001b[43m \u001b[49m\u001b[38;5;241;43m30\u001b[39;49m\u001b[43m)\u001b[49m\n",
      "\u001b[1;31mTypeError\u001b[0m: calcola_media() takes 1 positional argument but 3 were given"
     ]
    }
   ],
   "source": [
    "def calcola_media(numeri):\n",
    "   return sum(numeri) / len(numeri)\n",
    "\n",
    "media = calcola_media(10, 20, 30)  # così non va bene, nella definizione di funzione ho un solo argomento, avrei dovuto scrivere:\n",
    "#                                    def calcola_media(a, b, c) ma avrebbe fatto la media solo su 3 numeri inseribili\n",
    "\n",
    "# devo utilizzare un carattere speciale: \"*\", così posso scrivere \"*numeri\". Riceve i 3 numeri e ottengo una tupla"
   ]
  },
  {
   "cell_type": "markdown",
   "metadata": {},
   "source": [
    "Prova qua sotto ad usare la notazione `*args` per creare una funzione che accetti un numero indefinito di argomenti."
   ]
  },
  {
   "cell_type": "code",
   "execution_count": 29,
   "metadata": {},
   "outputs": [
    {
     "name": "stdout",
     "output_type": "stream",
     "text": [
      "(10, 20, 30)\n"
     ]
    }
   ],
   "source": [
    "def calcola_media(*numeri):\n",
    "   print(numeri)\n",
    "\n",
    "media = calcola_media(10, 20, 30) "
   ]
  },
  {
   "cell_type": "code",
   "execution_count": 27,
   "metadata": {},
   "outputs": [
    {
     "name": "stdout",
     "output_type": "stream",
     "text": [
      "La media è: 20.0\n"
     ]
    }
   ],
   "source": [
    "def calcola_media(*numeri):               # argument packing, crea una tupla e posso fare le varie operazioni\n",
    "   return sum(numeri) / len(numeri)\n",
    "\n",
    "media = calcola_media(10, 20, 30)\n",
    "print(f\"La media è: {media}\")"
   ]
  },
  {
   "cell_type": "code",
   "execution_count": 43,
   "metadata": {},
   "outputs": [
    {
     "name": "stdout",
     "output_type": "stream",
     "text": [
      "eta beta\n"
     ]
    }
   ],
   "source": [
    "# Scrivi qua il tuo codice\n",
    "\n",
    "pippo = ''\n",
    "\n",
    "pluto = pippo or 'eta beta'  # pluto = pippo se pippo è vero, altrimenti l'altro 'eta beta'\n",
    "print(pluto)"
   ]
  },
  {
   "cell_type": "code",
   "execution_count": 39,
   "metadata": {},
   "outputs": [
    {
     "name": "stdout",
     "output_type": "stream",
     "text": [
      "eta beta\n"
     ]
    }
   ],
   "source": [
    "pippo = ''\n",
    "\n",
    "if pippo:\n",
    "    pluto = pippo\n",
    "else:\n",
    "    pluto = 'eta beta'\n",
    "\n",
    "print(pluto)"
   ]
  },
  {
   "cell_type": "code",
   "execution_count": 41,
   "metadata": {},
   "outputs": [
    {
     "name": "stdout",
     "output_type": "stream",
     "text": [
      "eta beta\n"
     ]
    }
   ],
   "source": [
    "pippo = ''\n",
    "\n",
    "pluto = pippo if pippo else 'eta beta'\n",
    "print(pluto)\n"
   ]
  }
 ],
 "metadata": {
  "kernelspec": {
   "display_name": ".venv",
   "language": "python",
   "name": "python3"
  },
  "language_info": {
   "codemirror_mode": {
    "name": "ipython",
    "version": 3
   },
   "file_extension": ".py",
   "mimetype": "text/x-python",
   "name": "python",
   "nbconvert_exporter": "python",
   "pygments_lexer": "ipython3",
   "version": "3.12.2"
  }
 },
 "nbformat": 4,
 "nbformat_minor": 2
}
