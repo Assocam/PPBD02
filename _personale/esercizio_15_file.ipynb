{
 "cells": [
  {
   "attachments": {},
   "cell_type": "markdown",
   "metadata": {},
   "source": [
    "# Esercizio - Le età dei nostri amici"
   ]
  },
  {
   "attachments": {},
   "cell_type": "markdown",
   "metadata": {},
   "source": [
    "Requisiti: `import`, `with ... as`, `open`, `dict`"
   ]
  },
  {
   "attachments": {},
   "cell_type": "markdown",
   "metadata": {},
   "source": [
    "E’ dato un file `nomi_data_nascita.txt` nella cartella `/files_esercizi` del nostro repository. Il file è caratterizzato dal seguente formato rappresentante delle coppie nome/età. Per esempio:\n",
    "\n",
    "```python\n",
    "Ada: 1999\n",
    "Pippo: 1980\n",
    "Felice: 1976\n",
    "Geronima: 1999\n",
    "...\n",
    "```\n",
    "\n",
    "Leggi tutto il file creando un dizionario (`dict`) le cui chiavi sono corrispondono all’età della persona alla data attuale. A ciascuna età deve essere associata una lista con i nomi di persone che hanno quell’età.\n",
    "\n",
    "Output atteso:\n",
    "\n",
    "```python\n",
    "{24: ['Ada:', 'Geronima:', 'Roberto:'], 43: ['Pippo:', 'Ciccio:'], 47: ['Felice:', 'Mimmo:'], 51: ['Luca:', 'Pluto:'], 100: ['Totò:']}\n",
    "```"
   ]
  },
  {
   "cell_type": "code",
   "execution_count": null,
   "metadata": {},
   "outputs": [],
   "source": [
    "# scrivi qui\n",
    "import os\n",
    "import uuid\n",
    "import json\n",
    "import sys\n",
    "from datetime import date       \n",
    "\n",
    "def check_file(input_file, output_file):\n",
    "    if not os.path.exists(input_file):\n",
    "        print('ERRORE: Il file di input non esiste!')\n",
    "        return False\n",
    "    dir_string = os.path.dirname(output_file)\n",
    "\n",
    "    if not os.path.exists(dir_string):\n",
    "        print('ERRORE: La cartella di output non esiste!')\n",
    "        return False\n",
    "    \n",
    "    return True\n",
    "\n",
    "anno_corrente = date.today().year \n",
    "args = sys.argv\n",
    "report = {} \n",
    "\n",
    "\n",
    "\n",
    "def converti_file(input_path, output_path):\n",
    "                                    \n",
    "    if len(args) == 3:\n",
    "        input_path = args[1]\n",
    "        output_path = args[2]\n",
    "        check_file(input_path, output_path)\n",
    "\n",
    "        if check_file(input_path, output_path):\n",
    "            converti_file(input_path, output_path)\n",
    "            print('SUCCESSO: Il file è stato creato correttamente!')\n",
    "\n",
    "elif len(args) == 1:\n",
    "    print('Non hai passato i 2 parametri necessari: il file di input '\n",
    "          'e il file di output')\n",
    "elif len(args) == 2:\n",
    "    print('Non hai passato i secondo parametro necessari: il file di output')\n",
    "else:\n",
    "    print('Hai inserito troppi parametri. Ne servono 2 '\n",
    "          'il file di input e il file di output.')\n",
    "\n",
    "\n",
    "\n",
    "filename = \"//workspaces//PPBD02//_personale//nomi_data_nascita.txt\"     \n",
    "filenameCompleto = os.path.abspath(filename)\n",
    "\n",
    "     \n",
    "\n",
    "with open(filename, 'r', encoding = 'utf-8') as fr:               \n",
    "    contenuto = fr.readlines()\n",
    "\n",
    "for line in contenuto:\n",
    "    lista_oggetti = line.split(':')                                              \n",
    "    nome = lista_oggetti[0].strip()                         \n",
    "    anno = int(lista_oggetti[1].strip())\n",
    "    eta = anno_corrente - anno\n",
    "    if eta in report:                                       \n",
    "        report[eta].append(nome)\n",
    "    else:\n",
    "        report[eta] = [nome]\n",
    "\n",
    "report\n",
    "\n",
    "strDati = json.dumps(report)\n",
    "\n",
    "filename = 'dati.json'\n",
    "filenameCompleto = os.path.abspath(filename)\n",
    "\n",
    "with open(filenameCompleto, 'w') as fw:\n",
    "    fw.write(strDati)\n",
    "\n",
    "    print(strDati)\n",
    "\n",
    "    \n"
   ]
  },
  {
   "cell_type": "code",
   "execution_count": null,
   "metadata": {},
   "outputs": [],
   "source": [
    "{\n",
    "    25: [\"Ada:\", \"Geronima:\", \"Roberto:\"],\n",
    "    44: [\"Pippo:\", \"Ciccio:\"],\n",
    "    48: [\"Felice:\", \"Mimmo:\"],\n",
    "    52: [\"Luca:\", \"Pluto:\"],\n",
    "    101: [\"Totò:\"],\n",
    "}"
   ]
  },
  {
   "cell_type": "code",
   "execution_count": null,
   "metadata": {},
   "outputs": [],
   "source": [
    "'Ada: 1999'.split(': ')\n",
    "\n",
    "# input ['Ada', '1999'] elimina i due punti"
   ]
  },
  {
   "attachments": {},
   "cell_type": "markdown",
   "metadata": {},
   "source": [
    "Ora, riesci a scriverle in un file nuovo, mantenendo il seguente formato?\n",
    "\n",
    "```python\n",
    "Nome,Età\n",
    "Ada,24\n",
    "Geronima,24\n",
    "Roberto,24\n",
    "Pippo,43\n",
    "Ciccio,43\n",
    "...\n",
    "```"
   ]
  },
  {
   "attachments": {},
   "cell_type": "markdown",
   "metadata": {},
   "source": [
    "Prova a scrivere un nuovo file `nomi_eta.csv` nella cartella `/files_esercizi` del nostro repository.\n",
    "\n",
    "Normalmente i file `.csv` hanno la prima linea dedicata alle \"intestazioni di colonna\". In questo caso nella prima riga del file dovremmo avere `Nome,Età`."
   ]
  },
  {
   "cell_type": "code",
   "execution_count": null,
   "metadata": {},
   "outputs": [],
   "source": [
    "# scrivi qui\n",
    "#print(report)\n",
    "with open('./outputs/nomi_eta.csv', 'w' , encoding = 'utf-8') as output_file:\n",
    "\n",
    "\n",
    "    intestazione = 'nome;eta\\n'       # \\n\n",
    "    output_file.write(intestazione)\n",
    "\n",
    "    for eta in report:\n",
    "        for nome in report[eta]:\n",
    "            riga = nome + ';' + str(eta) + '\\n'\n",
    "            print(riga)\n",
    "            #riga = f'{nome},{eta}\\n'\n",
    "            #print(riga)              # scrittura alternativa\n",
    "            output_file.write(riga)\n"
   ]
  },
  {
   "attachments": {},
   "cell_type": "markdown",
   "metadata": {},
   "source": [
    "Per finire, riusciresti a creare uno script che prende in ingresso due parametri, il file di origine `nomi_data_nascita.txt` e il file di output `nomi_eta.csv` e che esegue le conversione creando il file di output?\n",
    "\n",
    "Per lanciare il nostro script, immaginando di trovarci nella cartella `/files_esercizi`, dovremmo poter lanciare un comando come il seguente:\n",
    "\n",
    "```shell\n",
    "$ py converti_nomi_nascita.py nomi_data_nascita.txt nomi_eta.csv\n",
    "```"
   ]
  },
  {
   "attachments": {},
   "cell_type": "markdown",
   "metadata": {},
   "source": [
    "Crea un nuovo file e chiamalo `converti_nomi_nascita.py` e salvalo dove preferisci, per esempio nella tua cartella `/personale` che dovresti avrere sul tuo branch del nostro repository.\n",
    "\n",
    "Ricorda che poi i percorsi ai file devono essere compatibili con la posizione in cui eseguirai lo script, dove tu ti trovi e dove si trova il file da convertire. Prova varie combinazioni, e vedi cosa succede e dove viene generato il file di output."
   ]
  }
 ],
 "metadata": {
  "kernelspec": {
   "display_name": ".venv",
   "language": "python",
   "name": "python3"
  },
  "language_info": {
   "codemirror_mode": {
    "name": "ipython",
    "version": 3
   },
   "file_extension": ".py",
   "mimetype": "text/x-python",
   "name": "python",
   "nbconvert_exporter": "python",
   "pygments_lexer": "ipython3",
   "version": "3.10.13"
  },
  "orig_nbformat": 4
 },
 "nbformat": 4,
 "nbformat_minor": 2
}
