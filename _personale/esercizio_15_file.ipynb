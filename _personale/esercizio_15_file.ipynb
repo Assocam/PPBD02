{
 "cells": [
  {
   "attachments": {},
   "cell_type": "markdown",
   "metadata": {},
   "source": [
    "# Esercizio - Le età dei nostri amici"
   ]
  },
  {
   "attachments": {},
   "cell_type": "markdown",
   "metadata": {},
   "source": [
    "Requisiti: `import`, `with ... as`, `open`, `dict`"
   ]
  },
  {
   "attachments": {},
   "cell_type": "markdown",
   "metadata": {},
   "source": [
    "E’ dato un file `nomi_data_nascita.txt` nella cartella `/files_esercizi` del nostro repository. Il file è caratterizzato dal seguente formato rappresentante delle coppie nome/età. Per esempio:\n",
    "\n",
    "```python\n",
    "Ada: 1999\n",
    "Pippo: 1980\n",
    "Felice: 1976\n",
    "Geronima: 1999\n",
    "...\n",
    "```\n",
    "\n",
    "Leggi tutto il file creando un dizionario (`dict`) le cui chiavi sono corrispondono all’età della persona alla data attuale. A ciascuna età deve essere associata una lista con i nomi di persone che hanno quell’età.\n",
    "\n",
    "Output atteso:\n",
    "\n",
    "```python\n",
    "{24: ['Ada:', 'Geronima:', 'Roberto:'], 43: ['Pippo:', 'Ciccio:'], 47: ['Felice:', 'Mimmo:'], 51: ['Luca:', 'Pluto:'], 100: ['Totò:']}\n",
    "```"
   ]
  },
  {
   "cell_type": "code",
   "execution_count": 10,
   "metadata": {},
   "outputs": [
    {
     "name": "stdout",
     "output_type": "stream",
     "text": [
      "2024\n"
     ]
    }
   ],
   "source": [
    "\n"
   ]
  },
  {
   "cell_type": "code",
   "execution_count": 4,
   "metadata": {},
   "outputs": [
    {
     "data": {
      "text/plain": [
       "{25: ['Ada', 'Geronima', 'Roberto'],\n",
       " 44: ['Pippo', 'Ciccio'],\n",
       " 48: ['Felice', 'Mimmo'],\n",
       " 52: ['Luca', 'Pluto'],\n",
       " 101: ['Totò']}"
      ]
     },
     "execution_count": 4,
     "metadata": {},
     "output_type": "execute_result"
    }
   ],
   "source": [
    "from datetime import date\n",
    "anno_corrente = date.today().year\n",
    "\n",
    "mio_file = open('../files_esercizi/nomi_data_nascita.txt', mode='r')\n",
    "mio_file.close()\n",
    "\n",
    "\n",
    "\n",
    "# creazione \n",
    "report = {}  #dizionario vuoto\n",
    "\n",
    "# accedere e aprire il file \n",
    "\n",
    "\n",
    "# Metodo 1 ciclare direttamente \n",
    "'''with open ('../files_esercizi/nomi_data_nascita.txt', mode='r') as file_testo:\n",
    "    for line in file_testo:\n",
    "        print(line)'''\n",
    "\n",
    "# Metodo 2 , uso di read per avere una stringa\n",
    "\n",
    "''' with open ('../files_esercizi/nomi_data_nascita.txt', mode='r') as file_testo:\n",
    "    testo = file_testo.read()\n",
    "\n",
    "list_lines = testo.split('\\n')\n",
    "# leggo la prima riga\n",
    "for line in list_lines:\n",
    "    print(line) '''\n",
    "\n",
    "\n",
    "file_path = '../files_esercizi/nomi_data_nascita.txt'\n",
    "\n",
    "# Metodo 3  uso di readlines() per avere una lista di righe \n",
    "with open (file_path, mode='r', encoding='utf-8') as file_testo:\n",
    "    list_lines = file_testo.readlines()\n",
    "\n",
    "#per ciascuna riga del testo \n",
    "for line in list_lines:\n",
    "    # print(line)\n",
    "    \n",
    "\n",
    "    # procedo con l'elaporazione della stringa \n",
    "    # estraggo nome e anno di nascita \n",
    "\n",
    "    #  Metodo X: uso dello slice\n",
    "    # nome = line[:-7]\n",
    "    # anno = line[-5:-1]\n",
    "    # anno = int(anno)\n",
    "\n",
    "    # METODO Y:\n",
    "\n",
    "    lista_oggetti = line.split(':')\n",
    "    # rimuovo i whitespaces da entrambi i lati delle stringhe\n",
    "    nome = lista_oggetti[0].strip()\n",
    "    anno = int(lista_oggetti[1].strip())\n",
    "    eta = anno_corrente - anno\n",
    "    \n",
    "    if eta in report: # se chiave è presente\n",
    "    \n",
    "        report[eta].append(nome)\n",
    "\n",
    "    else:\n",
    "        report[eta] = [nome]\n",
    "\n",
    "# dac faci print(report) imi stampeaza pe o singura linie\n",
    "\n",
    "report"
   ]
  },
  {
   "cell_type": "code",
   "execution_count": null,
   "metadata": {},
   "outputs": [],
   "source": [
    "sorted(report)"
   ]
  },
  {
   "cell_type": "code",
   "execution_count": null,
   "metadata": {},
   "outputs": [],
   "source": [
    "{\n",
    "    24: [\"Ada:\", \"Geronima:\", \"Roberto:\"],\n",
    "    43: [\"Pippo:\", \"Ciccio:\"],\n",
    "    47: [\"Felice:\", \"Mimmo:\"],\n",
    "    51: [\"Luca:\", \"Pluto:\"],\n",
    "    100: [\"Totò:\"],\n",
    "}"
   ]
  },
  {
   "attachments": {},
   "cell_type": "markdown",
   "metadata": {},
   "source": [
    "Ora, riesci a scriverle in un file nuovo, mantenendo il seguente formato?\n",
    "\n",
    "```python\n",
    "Nome,Età\n",
    "Ada,24\n",
    "Geronima,24\n",
    "Roberto,24\n",
    "Pippo,43\n",
    "Ciccio,43\n",
    "...\n",
    "```"
   ]
  },
  {
   "attachments": {},
   "cell_type": "markdown",
   "metadata": {},
   "source": [
    "Prova a scrivere un nuovo file `nomi_eta.csv` nella cartella `/personale/outputs` del nostro repository.\n",
    "\n",
    "Normalmente i file `.csv` hanno la prima linea dedicata alle \"intestazioni di colonna\". In questo caso nella prima riga del file dovremmo avere `Nome,Età`."
   ]
  },
  {
   "cell_type": "code",
   "execution_count": 39,
   "metadata": {},
   "outputs": [
    {
     "name": "stdout",
     "output_type": "stream",
     "text": [
      "NOMI,ETA\n",
      "25, 100\n",
      "44, 100\n",
      "48, 100\n",
      "52, 100\n",
      "101, 100\n"
     ]
    }
   ],
   "source": [
    "\n"
   ]
  },
  {
   "cell_type": "code",
   "execution_count": null,
   "metadata": {},
   "outputs": [],
   "source": []
  },
  {
   "cell_type": "code",
   "execution_count": 21,
   "metadata": {},
   "outputs": [],
   "source": []
  },
  {
   "cell_type": "code",
   "execution_count": 51,
   "metadata": {},
   "outputs": [],
   "source": [
    "# apro il file ( CHE NON ESISTE ANCORA) NELA MODALITA GIUSTA\n",
    "\n",
    "with open('./outputs/nomi_eta.csv', 'w', encoding= 'utf-8') as outputs_file:\n",
    "\n",
    "    # Modo 1: recuperò l'eta e il nome di ciascuna persona dal dizionario di report \n",
    "           # e stampo direttamente la riga\n",
    "\n",
    "    # scrivo l'intestazione(nome,eta)\n",
    "    intestazione = 'Nome,Eta\\n'\n",
    "    outputs_file.write(intestazione)\n",
    "    # per ciascuna eta\n",
    "    for eta in report:\n",
    "        for nome in report[eta]:\n",
    "            # riga = nome + ',' + str(eta) + '\\n'\n",
    "            riga = f'{nome},{eta}\\n'\n",
    "            outputs_file.write(riga)\n",
    "    \n",
    "      # per ciascun nome\n",
    "        # scrivo la riga\n",
    "\n",
    "\n",
    "# MODO 2 : Creo una lista contenemente le linee da scrivere\n",
    "# Creo la lista \n",
    "\n",
    "# Modo 3: creo una stringa unica (contenemente anche \\n al termine di ogni riga)\n",
    "# creo la stringa\n",
    "\n",
    "# scrivo la lista con .write(stringa)\n",
    "\n"
   ]
  },
  {
   "attachments": {},
   "cell_type": "markdown",
   "metadata": {},
   "source": [
    "Per finire, riusciresti a creare uno script che prende in ingresso due parametri, il file di origine `nomi_data_nascita.txt` e il file di output `nomi_eta.csv` e che esegue le conversione creando il file di output?\n",
    "\n",
    "Per lanciare il nostro script, immaginando di trovarci nella cartella `/files_esercizi`, dovremmo poter lanciare un comando come il seguente:\n",
    "\n",
    "```shell\n",
    "$ py converti_nomi_nascita.py nomi_data_nascita.txt nomi_eta.csv\n",
    "```"
   ]
  },
  {
   "attachments": {},
   "cell_type": "markdown",
   "metadata": {},
   "source": [
    "Crea un nuovo file e chiamalo `converti_nomi_nascita.py` e salvalo dove preferisci, per esempio nella tua cartella `/personale` che dovresti avrere sul tuo branch del nostro repository.\n",
    "\n",
    "Ricorda che poi i percorsi ai file devono essere compatibili con la posizione in cui eseguirai lo script, dove tu ti trovi e dove si trova il file da convertire. Prova varie combinazioni, e vedi cosa succede e dove viene generato il file di output."
   ]
  }
 ],
 "metadata": {
  "kernelspec": {
   "display_name": ".venv",
   "language": "python",
   "name": "python3"
  },
  "language_info": {
   "codemirror_mode": {
    "name": "ipython",
    "version": 3
   },
   "file_extension": ".py",
   "mimetype": "text/x-python",
   "name": "python",
   "nbconvert_exporter": "python",
   "pygments_lexer": "ipython3",
   "version": "3.12.2"
  },
  "orig_nbformat": 4
 },
 "nbformat": 4,
 "nbformat_minor": 2
}
