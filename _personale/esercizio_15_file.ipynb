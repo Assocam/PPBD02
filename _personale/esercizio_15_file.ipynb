{
 "cells": [
  {
   "attachments": {},
   "cell_type": "markdown",
   "metadata": {},
   "source": [
    "# Esercizio - Le età dei nostri amici"
   ]
  },
  {
   "attachments": {},
   "cell_type": "markdown",
   "metadata": {},
   "source": [
    "Requisiti: `import`, `with ... as`, `open`, `dict`"
   ]
  },
  {
   "attachments": {},
   "cell_type": "markdown",
   "metadata": {},
   "source": [
    "E’ dato un file `nomi_data_nascita.txt` nella cartella `/files_esercizi` del nostro repository. Il file è caratterizzato dal seguente formato rappresentante delle coppie nome/età. Per esempio:\n",
    "\n",
    "```python\n",
    "Ada: 1999\n",
    "Pippo: 1980\n",
    "Felice: 1976\n",
    "Geronima: 1999\n",
    "...\n",
    "```\n",
    "\n",
    "Leggi tutto il file creando un dizionario (`dict`) le cui chiavi sono corrispondono all’età della persona alla data attuale. A ciascuna età deve essere associata una lista con i nomi di persone che hanno quell’età.\n",
    "\n",
    "Output atteso:\n",
    "\n",
    "```python\n",
    "{24: ['Ada:', 'Geronima:', 'Roberto:'], 43: ['Pippo:', 'Ciccio:'], 47: ['Felice:', 'Mimmo:'], 51: ['Luca:', 'Pluto:'], 100: ['Totò:']}\n",
    "```"
   ]
  },
  {
   "cell_type": "code",
   "execution_count": null,
   "metadata": {},
   "outputs": [],
   "source": [
    "#...:\n",
    "    # Leggo la prima riga\n",
    "#    ...\n",
    "\n",
    "    # Finché la riga non è vuota\n",
    "    # (finché non ho raggiunto il fondo del file)\n",
    "\n",
    "        # Procedo con l'elaborazione della stringa\n",
    "#        ...\n",
    "#        ...\n"
   ]
  },
  {
   "cell_type": "code",
   "execution_count": 39,
   "metadata": {},
   "outputs": [
    {
     "name": "stdout",
     "output_type": "stream",
     "text": [
      "{25: ['Roberto'], 44: ['Ciccio'], 48: ['Mimmo'], 52: ['Pluto'], 101: ['Totò']}\n"
     ]
    }
   ],
   "source": [
    "from datetime import date\n",
    "import json\n",
    "\n",
    "# Creazione variabile per anno corrente\n",
    "\n",
    "anno_corrente = date.today().year  # è un integer: type(anno_corrente) --> int\n",
    "\n",
    "# Creazione variabile per report (vuoto)\n",
    "\n",
    "report = {}\n",
    "\n",
    "# Accedere e aprire il file, con questa dicitura apre e chiude in automatico\n",
    "\n",
    "with open('nomi_data_nascita.txt', mode = 'r', encoding = 'utf-8') as file_testo:\n",
    "    dati = file_testo.read()\n",
    "\n",
    "# Divido le righe tramite uno split che le divide in base all'invio a capo ('\\n')\n",
    "\n",
    "righe = dati.split('\\n')\n",
    "\n",
    "#contatore = 0\n",
    "\n",
    "# Adesso  mi occupo di fare operazioni sulle righe\n",
    "\n",
    "for riga in righe:                  # per ogni riga presente nel file\n",
    "\n",
    "#    contatore += 1  \n",
    "    nome, anno = riga.split()       # se la funzione non ha argomenti i dati vengono divisi di default dallo spazio\n",
    "    nome = nome.replace(':', '')    # ho diviso e ora devo togliere il carattere \":\" associato al nome, è lì attaccato\n",
    "    anno = int(anno)                # devo convertire la stringa 'anno' in numero anno\n",
    "    età = anno_corrente - anno      # ottengo l'età\n",
    "    chiave = età                    # uso l'età come chiave, quindi tutte le persone con la stessa età vengono raggruppate\n",
    "    report[chiave] = []\n",
    "    if chiave not in report:\n",
    "        report[chiave] = []\n",
    "    report[chiave].append(nome)\n",
    "#   report[chiave] = nome          # prende solo gli ultimo valore di una determinata chiave, perché lo sovrascrive\n",
    "\n",
    "\n",
    "#   report.setdefault(chiave, []).append(nome)     # setdefault() permette di non sovrascrivere\n",
    "                                                   # in generale comunquecrea eventualmente una chiave\n",
    "                                                   # se quella indicata non esiste\n",
    "                                                   \n",
    "print(report)                                      # stampo il report\n",
    "\n",
    "\n",
    "# amici = json.dumps(report)   # Jsonifizziamo il report, la differenza tra dizionario \n",
    "# print(amici)\n",
    "\n",
    "# # Adesso che ho il formato json stringa voglio scriverlo in un file:\n",
    "\n",
    "# file_amici = \"C:\\\\Users\\\\lucas\\Desktop\\\\Python - Scuola Camerana\\\\PPBD02\\\\_personale\\\\amici.json\"\n",
    "\n",
    "# with open(file_amici, mode = 'w', encoding = utf-8) as fw:\n",
    "#     fw.write(amici)\n"
   ]
  },
  {
   "cell_type": "code",
   "execution_count": 8,
   "metadata": {},
   "outputs": [
    {
     "data": {
      "text/plain": [
       "['Ada:', '1999']"
      ]
     },
     "execution_count": 8,
     "metadata": {},
     "output_type": "execute_result"
    }
   ],
   "source": [
    "'Ada: 1999'.split()"
   ]
  },
  {
   "cell_type": "code",
   "execution_count": 10,
   "metadata": {},
   "outputs": [
    {
     "data": {
      "text/plain": [
       "('Ada', '1999')"
      ]
     },
     "execution_count": 10,
     "metadata": {},
     "output_type": "execute_result"
    }
   ],
   "source": [
    "nome, anno = 'Ada: 1999'.split()\n",
    "nome = nome.replace(':', '')\n",
    "\n",
    "nome, anno\n"
   ]
  },
  {
   "cell_type": "code",
   "execution_count": 21,
   "metadata": {},
   "outputs": [
    {
     "name": "stdout",
     "output_type": "stream",
     "text": [
      "Ada: 1999\n",
      "Pippo: 1980\n",
      "Felice: 1976\n",
      "Geronima: 1999\n",
      "Ciccio: 1980\n",
      "Luca: 1972\n",
      "Roberto: 1999\n",
      "Pluto: 1972\n",
      "Mimmo: 1976\n",
      "Totò: 1923\n"
     ]
    }
   ],
   "source": [
    "mio_file = open('nomi_data_nascita.txt', mode = 'r', encoding = 'utf-8')  # r è per dire modalità lettura\n",
    "\n",
    "# print(mio_file)\n",
    "# Stampa: <_io.TextIOWrapper name='nomi_data_nascita.txt' mode='r' encoding='cp1252'> \n",
    "\n",
    "print(mio_file.read())\n",
    "\n",
    "mio_file.close()"
   ]
  },
  {
   "attachments": {},
   "cell_type": "markdown",
   "metadata": {},
   "source": [
    "Ora, riesci a scriverle in un file nuovo, mantenendo il seguente formato?\n",
    "\n",
    "```python\n",
    "Nome,Età\n",
    "Ada,24\n",
    "Geronima,24\n",
    "Roberto,24\n",
    "Pippo,43\n",
    "Ciccio,43\n",
    "...\n",
    "```"
   ]
  },
  {
   "attachments": {},
   "cell_type": "markdown",
   "metadata": {},
   "source": [
    "Prova a scrivere un nuovo file `nomi_eta.csv` nella cartella `/files_esercizi` del nostro repository.\n",
    "\n",
    "Normalmente i file `.csv` hanno la prima linea dedicata alle \"intestazioni di colonna\". In questo caso nella prima riga del file dovremmo avere `Nome,Età`."
   ]
  },
  {
   "cell_type": "code",
   "execution_count": null,
   "metadata": {},
   "outputs": [],
   "source": [
    "# scrivi qui"
   ]
  },
  {
   "attachments": {},
   "cell_type": "markdown",
   "metadata": {},
   "source": [
    "Per finire, riusciresti a creare uno script che prende in ingresso due parametri, il file di origine `nomi_data_nascita.txt` e il file di output `nomi_eta.csv` e che esegue le conversione creando il file di output?\n",
    "\n",
    "Per lanciare il nostro script, immaginando di trovarci nella cartella `/files_esercizi`, dovremmo poter lanciare un comando come il seguente:\n",
    "\n",
    "```shell\n",
    "$ py converti_nomi_nascita.py nomi_data_nascita.txt nomi_eta.csv\n",
    "```"
   ]
  },
  {
   "attachments": {},
   "cell_type": "markdown",
   "metadata": {},
   "source": [
    "Crea un nuovo file e chiamalo `converti_nomi_nascita.py` e salvalo dove preferisci, per esempio nella tua cartella `/personale` che dovresti avrere sul tuo branch del nostro repository.\n",
    "\n",
    "Ricorda che poi i percorsi ai file devono essere compatibili con la posizione in cui eseguirai lo script, dove tu ti trovi e dove si trova il file da convertire. Prova varie combinazioni, e vedi cosa succede e dove viene generato il file di output."
   ]
  }
 ],
 "metadata": {
  "kernelspec": {
   "display_name": ".venv",
   "language": "python",
   "name": "python3"
  },
  "language_info": {
   "codemirror_mode": {
    "name": "ipython",
    "version": 3
   },
   "file_extension": ".py",
   "mimetype": "text/x-python",
   "name": "python",
   "nbconvert_exporter": "python",
   "pygments_lexer": "ipython3",
   "version": "3.12.2"
  },
  "orig_nbformat": 4
 },
 "nbformat": 4,
 "nbformat_minor": 2
}
