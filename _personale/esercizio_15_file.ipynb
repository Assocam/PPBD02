{
 "cells": [
  {
   "attachments": {},
   "cell_type": "markdown",
   "metadata": {},
   "source": [
    "# Esercizio - Le età dei nostri amici"
   ]
  },
  {
   "attachments": {},
   "cell_type": "markdown",
   "metadata": {},
   "source": [
    "Requisiti: `import`, `with ... as`, `open`, `dict`"
   ]
  },
  {
   "attachments": {},
   "cell_type": "markdown",
   "metadata": {},
   "source": [
    "E’ dato un file `nomi_data_nascita.txt` nella cartella `/files_esercizi` del nostro repository. Il file è caratterizzato dal seguente formato rappresentante delle coppie nome/età. Per esempio:\n",
    "\n",
    "```python\n",
    "Ada: 1999\n",
    "Pippo: 1980\n",
    "Felice: 1976\n",
    "Geronima: 1999\n",
    "...\n",
    "```\n",
    "\n",
    "Leggi tutto il file creando un dizionario (`dict`) le cui chiavi sono corrispondono all’età della persona alla data attuale. A ciascuna età deve essere associata una lista con i nomi di persone che hanno quell’età.\n",
    "\n",
    "Output atteso:\n",
    "\n",
    "```python\n",
    "{24: ['Ada:', 'Geronima:', 'Roberto:'], 43: ['Pippo:', 'Ciccio:'], 47: ['Felice:', 'Mimmo:'], 51: ['Luca:', 'Pluto:'], 100: ['Totò:']}\n",
    "```"
   ]
  },
  {
   "cell_type": "code",
   "execution_count": 2,
   "metadata": {},
   "outputs": [
    {
     "name": "stdout",
     "output_type": "stream",
     "text": [
      "{\"25\": [\"Ada\", \"Geronima\", \"Roberto\"], \"44\": [\"Pippo\", \"Ciccio\"], \"48\": [\"Felice\", \"Mimmo\"], \"52\": [\"Luca\", \"Pluto\"], \"101\": [\"Tot\\u00f2\"]}\n"
     ]
    }
   ],
   "source": [
    "# scrivi qui\n",
    "import os\n",
    "import uuid\n",
    "import json\n",
    "from datetime import date                               # modulo datetime importa data e ora solo date importa data\n",
    "# Creazione variabole per Anno corrente (vuoto)\n",
    "\n",
    "anno_corrente = date.today().year                                         # funziona per l'anno' di oggi\n",
    "\n",
    "# Creazione variabole per report (vuoto)\n",
    "filename = \"//workspaces//PPBD02//_personale//nomi_data_nascita.txt\"      # recupera i dati del file txt\n",
    "filenameCompleto = os.path.abspath(filename)\n",
    "\n",
    "       # dizionario vuoto\n",
    "\n",
    "with open(filename, 'r', encoding = 'utf-8') as fr:               # Atomica lettura e chiusura\n",
    "    contenuto = fr.readlines()\n",
    "\n",
    "report = {}               # dizionario vuoto\n",
    "\n",
    "# Per ciascuna riga del testo \n",
    "for line in contenuto:\n",
    "#    print(line)\n",
    "\n",
    "    lista_oggetti = line.split(':')                          # dividere le stringhe\n",
    "#    nome = line[:-6]\n",
    "#    anno = line[-4:]                                        # si fa uno slice\n",
    "\n",
    "# Rimuovere i whitespace da entrambi i lati delle stringhe\n",
    "    nome = lista_oggetti[0].strip()                          # il comando strip() rimuove e pulisce il file\n",
    "    anno = int(lista_oggetti[1].strip())\n",
    "    eta = anno_corrente - anno\n",
    "\n",
    "    if eta in report:                                         # Se la chiave non è presente\n",
    "        report[eta].append(nome)\n",
    "\n",
    "    else:\n",
    "        report[eta] = [nome]\n",
    "\n",
    "report\n",
    "\n",
    "#print(report)\n",
    "\n",
    "strDati = json.dumps(report)\n",
    "\n",
    "filename = 'dati.json'\n",
    "filenameCompleto = os.path.abspath(filename)\n",
    "\n",
    "with open(filenameCompleto, 'w') as fw:\n",
    "    fw.write(strDati)\n",
    "\n",
    "    print(strDati)\n",
    "\n",
    "    \n"
   ]
  },
  {
   "cell_type": "code",
   "execution_count": null,
   "metadata": {},
   "outputs": [],
   "source": [
    "{\n",
    "    25: [\"Ada:\", \"Geronima:\", \"Roberto:\"],\n",
    "    44: [\"Pippo:\", \"Ciccio:\"],\n",
    "    48: [\"Felice:\", \"Mimmo:\"],\n",
    "    52: [\"Luca:\", \"Pluto:\"],\n",
    "    101: [\"Totò:\"],\n",
    "}"
   ]
  },
  {
   "cell_type": "code",
   "execution_count": 16,
   "metadata": {},
   "outputs": [
    {
     "data": {
      "text/plain": [
       "['Ada', '1999']"
      ]
     },
     "execution_count": 16,
     "metadata": {},
     "output_type": "execute_result"
    }
   ],
   "source": [
    "'Ada: 1999'.split(': ')\n",
    "\n",
    "# input ['Ada', '1999'] elimina i due punti"
   ]
  },
  {
   "attachments": {},
   "cell_type": "markdown",
   "metadata": {},
   "source": [
    "Ora, riesci a scriverle in un file nuovo, mantenendo il seguente formato?\n",
    "\n",
    "```python\n",
    "Nome,Età\n",
    "Ada,24\n",
    "Geronima,24\n",
    "Roberto,24\n",
    "Pippo,43\n",
    "Ciccio,43\n",
    "...\n",
    "```"
   ]
  },
  {
   "attachments": {},
   "cell_type": "markdown",
   "metadata": {},
   "source": [
    "Prova a scrivere un nuovo file `nomi_eta.csv` nella cartella `/files_esercizi` del nostro repository.\n",
    "\n",
    "Normalmente i file `.csv` hanno la prima linea dedicata alle \"intestazioni di colonna\". In questo caso nella prima riga del file dovremmo avere `Nome,Età`."
   ]
  },
  {
   "cell_type": "code",
   "execution_count": 13,
   "metadata": {},
   "outputs": [
    {
     "name": "stdout",
     "output_type": "stream",
     "text": [
      "Ada,25\n",
      "\n",
      "Geronima,25\n",
      "\n",
      "Roberto,25\n",
      "\n",
      "Pippo,44\n",
      "\n",
      "Ciccio,44\n",
      "\n",
      "Felice,48\n",
      "\n",
      "Mimmo,48\n",
      "\n",
      "Luca,52\n",
      "\n",
      "Pluto,52\n",
      "\n",
      "Totò,101\n",
      "\n"
     ]
    }
   ],
   "source": [
    "# scrivi qui\n",
    "#print(report)\n",
    "with open('./outputs/nomi_eta.csv', 'w' , encoding = 'utf-8') as output_file:\n",
    "\n",
    "\n",
    "    intestazione = 'nome,eta\\n'       # \\n\n",
    "    output_file.write(intestazione)\n",
    "\n",
    "    for eta in report:\n",
    "        for nome in report[eta]:\n",
    "            riga = nome + ',' + str(eta) + '\\n'\n",
    "            print(riga)\n",
    "            #print(f'{nome},{eta}')              # scrittura alternativa\n",
    "            output_file.write(riga)\n",
    "\n",
    "        \n",
    "\n",
    "\n",
    "\n",
    "\n",
    "\n",
    "\n",
    "\n",
    "\n",
    "\n",
    "\n",
    "\n",
    "\n",
    "\n"
   ]
  },
  {
   "attachments": {},
   "cell_type": "markdown",
   "metadata": {},
   "source": [
    "Per finire, riusciresti a creare uno script che prende in ingresso due parametri, il file di origine `nomi_data_nascita.txt` e il file di output `nomi_eta.csv` e che esegue le conversione creando il file di output?\n",
    "\n",
    "Per lanciare il nostro script, immaginando di trovarci nella cartella `/files_esercizi`, dovremmo poter lanciare un comando come il seguente:\n",
    "\n",
    "```shell\n",
    "$ py converti_nomi_nascita.py nomi_data_nascita.txt nomi_eta.csv\n",
    "```"
   ]
  },
  {
   "attachments": {},
   "cell_type": "markdown",
   "metadata": {},
   "source": [
    "Crea un nuovo file e chiamalo `converti_nomi_nascita.py` e salvalo dove preferisci, per esempio nella tua cartella `/personale` che dovresti avrere sul tuo branch del nostro repository.\n",
    "\n",
    "Ricorda che poi i percorsi ai file devono essere compatibili con la posizione in cui eseguirai lo script, dove tu ti trovi e dove si trova il file da convertire. Prova varie combinazioni, e vedi cosa succede e dove viene generato il file di output."
   ]
  }
 ],
 "metadata": {
  "kernelspec": {
   "display_name": ".venv",
   "language": "python",
   "name": "python3"
  },
  "language_info": {
   "codemirror_mode": {
    "name": "ipython",
    "version": 3
   },
   "file_extension": ".py",
   "mimetype": "text/x-python",
   "name": "python",
   "nbconvert_exporter": "python",
   "pygments_lexer": "ipython3",
   "version": "3.10.13"
  },
  "orig_nbformat": 4
 },
 "nbformat": 4,
 "nbformat_minor": 2
}
