{
 "cells": [
  {
   "cell_type": "markdown",
   "metadata": {},
   "source": [
    "# Esercizi introduttivi"
   ]
  },
  {
   "cell_type": "markdown",
   "metadata": {},
   "source": [
    "TEMI TRATTATI:\n",
    "\n",
    "- I tipi di variabile.\n",
    "- Gli operatori aritmetici di base.\n",
    "- La manipolazione di stringhe."
   ]
  },
  {
   "cell_type": "markdown",
   "metadata": {},
   "source": [
    "NOTE SULLO SVOLGIMENTO:\n",
    "- Puoi svolgere ed eseguire gli esercizi direttamente qua su questo notebook oppure su un normale file di script Python con estensione `.py`, eseguendolo nel terminale del sistema operativo con il comando `py mio_esercizio.py` (Windows) oppure `python3 mio_esercizio.py` (Linux o macOS)."
   ]
  },
  {
   "cell_type": "markdown",
   "metadata": {},
   "source": [
    "## Esercizio 1: Due numeri\n",
    "\n",
    "Scrivere un programma che memorizzi due numeri interi in due costanti definite nel codice, e poi ne visualizzi:\n",
    "\n",
    "- La somma.\n",
    "- La differenza.\n",
    "- Il prodotto.\n",
    "- Il valore medio.\n",
    "- La distanza (cioè il valore assoluto della differenza).\n",
    "- Il valore massimo (cioè il maggiore tra i due).\n",
    "- Il valore minimo (cioè il minore tra i due).\n",
    "\n",
    "**SUGGERIMENTO:** utilizzare le funzioni built-in `max()` e `min()`. Esse accettano una sequenza di valori separati da virgola in input e restituiscono rispettivamente il valore massimo e minimo della sequenza (ad esempio, `max(10, 5)` restituisce `10`)."
   ]
  },
  {
   "cell_type": "code",
   "execution_count": 16,
   "metadata": {},
   "outputs": [
    {
     "name": "stdout",
     "output_type": "stream",
     "text": [
      "Somma = 12\n",
      "Differenza = -4\n",
      "Prodotto = 32\n",
      "Valore medio = 6.0\n",
      "Distanza = 4\n",
      "Valore massimo = 8\n",
      "Valore minimo = 4\n",
      "\n",
      "Somma = 12\n",
      "Differenza = -4\n",
      "Prodotto = 32\n",
      "Valore medio = 6.0\n",
      "Distanza = 4\n",
      "Valore massimo = 8\n",
      "Valore minimo = 4\n"
     ]
    }
   ],
   "source": [
    "# Scrivi qua il tuo codice\n",
    "\n",
    "a = 4\n",
    "b = 8\n",
    "\n",
    "print(\"Somma =\", a + b)\n",
    "print(\"Differenza =\", a - b)\n",
    "print(\"Prodotto =\", a * b)\n",
    "print(\"Valore medio =\", (a + b)/2)\n",
    "print(\"Distanza =\", abs(a - b))\n",
    "print(\"Valore massimo =\", max(a, b))\n",
    "print(\"Valore minimo =\", min(a, b))\n",
    "\n",
    "print()\n",
    "\n",
    "Somma = a + b\n",
    "Differenza = a - b\n",
    "Prodotto = a * b\n",
    "Valore_medio = (a + b)/2\n",
    "Distanza = abs(Differenza)\n",
    "Valore_massimo = max(a, b)\n",
    "Valore_minimo = min(a, b)\n",
    "\n",
    "print(\"Somma =\", Somma)\n",
    "print(\"Differenza =\", Differenza)\n",
    "print(\"Prodotto =\", Prodotto)\n",
    "print(\"Valore medio =\", Valore_medio)\n",
    "print(\"Distanza =\", Distanza)\n",
    "print(\"Valore massimo =\", Valore_massimo)\n",
    "print(\"Valore minimo =\", Valore_minimo)\n",
    "\n"
   ]
  },
  {
   "cell_type": "markdown",
   "metadata": {},
   "source": [
    "## Esercizio 2: Cifre\n",
    "\n",
    "Scrivere un programma che memorizzi in una costante un numero intero positivo di cinque cifre (quindi compreso tra `10000` e `99999`), e visualizzi le singole cifre di cui è composto. Ad esempio, avendo il numero `16384`, il programma deve visualizzare, su righe separate:\n",
    "\n",
    "```text\n",
    "1\n",
    "6\n",
    "3\n",
    "8\n",
    "4\n",
    "```"
   ]
  },
  {
   "cell_type": "code",
   "execution_count": 22,
   "metadata": {},
   "outputs": [
    {
     "name": "stdout",
     "output_type": "stream",
     "text": [
      "c\n",
      "i\n",
      "a\n",
      "o\n",
      "\n",
      "8\n",
      "4\n",
      "5\n",
      "6\n",
      "7\n",
      "\n",
      "8\n",
      "4\n",
      "5\n",
      "6\n",
      "7\n",
      "\n",
      "8\n",
      "4\n",
      "5\n",
      "6\n",
      "7\n"
     ]
    }
   ],
   "source": [
    "# Scrivi qua il tuo codice\n",
    "\n",
    "input_utente = 'ciao'\n",
    "input_utente[0] # notazione a \"subscription\"\n",
    "print(input_utente[0])\n",
    "print(input_utente[1])  # Il numero tra parentesi quadre si chiama indice (index)\n",
    "print(input_utente[2])  # [Index]\n",
    "print(input_utente[3])\n",
    "\n",
    "print()\n",
    "\n",
    "numero = 84567\n",
    "print(str(numero)[0])\n",
    "print(str(numero)[1])\n",
    "print(str(numero)[2])\n",
    "print(str(numero)[3])\n",
    "print(str(numero)[4])\n",
    "\n",
    "print()\n",
    "\n",
    "numero2 = str(numero)\n",
    "print(numero2[0])\n",
    "print(numero2[1])\n",
    "print(numero2[2])\n",
    "print(numero2[3])\n",
    "print(numero2[4])\n",
    "\n",
    "print()\n",
    "\n",
    "print(numero2[0], numero2[1], numero2[2], numero2[3], numero2[4], sep = \"\\n\")\n",
    "\n"
   ]
  },
  {
   "cell_type": "markdown",
   "metadata": {},
   "source": [
    "## Esercizio 3: Caratteri\n",
    "\n",
    "Scrivere un programma che memorizzi una stringa in una variabile e, a partire da quella variabile, visualizzi i primi tre caratteri della stringa, seguiti da tre punti, ancora seguiti dagli ultimi tre caratteri.\n",
    "\n",
    "Ad esempio, se la stringa viene inizializzata al valore `'Mississippi'`, il programma deve visualizzare `'Mis...ppi'`."
   ]
  },
  {
   "cell_type": "code",
   "execution_count": 31,
   "metadata": {},
   "outputs": [
    {
     "name": "stdout",
     "output_type": "stream",
     "text": [
      "Mis...ppi\n",
      "\n",
      "Mis...ppi\n",
      "\n",
      "Mis...ppi\n",
      "\n",
      "Mis...ppi\n",
      "\n",
      "Mis...ppi\n",
      "\n",
      "\n"
     ]
    },
    {
     "data": {
      "text/plain": [
       "'0369'"
      ]
     },
     "execution_count": 31,
     "metadata": {},
     "output_type": "execute_result"
    }
   ],
   "source": [
    "# Scrivi qua il tuo codice\n",
    "\n",
    "parola = \"Mississippi\"\n",
    "print(parola[0] + parola[1] +\n",
    "      parola[2] + \"...\" +\n",
    "      parola[len(parola)-3] +\n",
    "      parola[len(parola)-2] +\n",
    "      parola[len(parola)-1]\n",
    ")\n",
    "\n",
    "print()\n",
    "\n",
    "print(parola[0] + parola[1] +\n",
    "      parola[2] + \"...\" +\n",
    "      parola[-3] + parola[-2] +\n",
    "      parola[-1]\n",
    ")\n",
    "\n",
    "print()\n",
    "parte1 = parola[0] + parola[1] + parola[2]\n",
    "parte2 = \"...\"\n",
    "parte3 = parola[-3] + parola[-2] + parola[-1]\n",
    "\n",
    "print(parte1 + parte2 + parte3)\n",
    "\n",
    "print()\n",
    "\n",
    "# Soluzione ad hoc, usando lo slice\n",
    "\n",
    "parte_a = parola[0:3]\n",
    "parte_b = \"...\"\n",
    "parte_c = parola[-3:]\n",
    "\n",
    "\n",
    "print(parte_a + parte_b + parte_c)\n",
    "\n",
    "print()\n",
    "\n",
    "print(f'{parte_a}...{parte_c}')\n",
    "\n",
    "print()\n",
    "\n",
    "# Se voglio campionare gli elementi all'interno della stringa con una certa\n",
    "# \"spaziatura\" posso mettere come terzo indice la spaziatura (ad es. 3), \n",
    "# spalmata su tutta # la lunghezza della parola (Mississippi = 10)\n",
    "\n",
    "parola[0:10:3] \n",
    "\n",
    "print()\n",
    "\n",
    "numero = '0123456789'\n",
    "numero[0:len(numero):3]\n",
    "\n"
   ]
  },
  {
   "cell_type": "markdown",
   "metadata": {},
   "source": [
    "Prova a rispondere alle seguenti domande:\n",
    "- Cosa succede se la stringa è lunga meno di 6 caratteri?\n",
    "- Cosa succede se la stringa è lunga meno di 3 caratteri?"
   ]
  },
  {
   "cell_type": "markdown",
   "metadata": {},
   "source": [
    "## Esercizio 4: Numero telefonico\n",
    "\n",
    "Lo pseudocodice seguente descrive come trasformare una stringa contenente un numero telefonico a dieci cifre (come `'4155551212'`) in una stringa più facilmente leggibile, formattata secondo lo stile statunitense, come `'(415) 555–1212'`:\n",
    "\n",
    "1. Prendere la stringa costituita dai primi tre caratteri e circondarla con parentesi tonde (questo è il prefisso, detto \"area code\").\n",
    "2. Concatenare il prefisso ad uno spazio, poi alla stringa contenente i tre caratteri successivi, poi un trattino e infine alla stringa costituita dagli ultimi quattro caratteri.\n",
    "\n",
    "Tradurre questo pseudocodice in un programma Python che memorizzi un numero telefonico di 10 cifre in una stringa, per poi visualizzarlo nel formato appena descritto."
   ]
  },
  {
   "cell_type": "code",
   "execution_count": 1,
   "metadata": {},
   "outputs": [
    {
     "name": "stdout",
     "output_type": "stream",
     "text": [
      "(415) 555-1212\n",
      "\n",
      "(415) 555-1212\n",
      "\n",
      "(415) 555-1212\n",
      "\n",
      "(415) 555-1212\n"
     ]
    }
   ],
   "source": [
    "# Scrivi qua il tuo codice\n",
    "\n",
    "tel = str(4155551212)\n",
    "\n",
    "print(\"(\" + tel[0:3] + \")\" + \" \" +\n",
    "      tel[3:6] + \"-\" + tel[-4:]\n",
    " )\n",
    "\n",
    "print()\n",
    "\n",
    "print(f'({tel[0:3]}) {tel[3:6]}-{tel[-4:]}'\n",
    " )\n",
    "\n",
    "print()\n",
    "\n",
    "print(f'({tel[0:3]}) {tel[3:6]}-{tel[6:]}'\n",
    ")\n",
    "\n",
    "print()\n",
    "\n",
    "print(f'({tel[0:3]}) {tel[3:6]}-{tel[6:10]}'\n",
    ")\n",
    "\n",
    "\n"
   ]
  },
  {
   "cell_type": "code",
   "execution_count": 1,
   "metadata": {},
   "outputs": [
    {
     "name": "stdout",
     "output_type": "stream",
     "text": [
      "(415) 555-1212\n"
     ]
    }
   ],
   "source": [
    "#  Prova prof, introduzione della condizione if:\n",
    "\n",
    "tel = str(4155551212)\n",
    "\n",
    "if len(tel) != 10:  # \"!=\" è il carattere per dire diverso \n",
    "    print('Il numero inserito non è lungo 10 caratteri!')\n",
    "    exit()\n",
    "\n",
    "print(f'({tel[0:3]}) {tel[3:6]}-{tel[6:]}')"
   ]
  },
  {
   "cell_type": "code",
   "execution_count": 2,
   "metadata": {},
   "outputs": [
    {
     "name": "stdout",
     "output_type": "stream",
     "text": [
      "Il numero inserito non è lungo 10 caratteri!\n",
      "Il numero inserito non è lungo 10 caratteri!\n",
      "Il numero inserito non è lungo 10 caratteri!\n",
      "Il numero inserito non è lungo 10 caratteri!\n",
      "Il numero inserito non è lungo 10 caratteri!\n"
     ]
    }
   ],
   "source": [
    "#  Prova mia\n",
    "\n",
    "# tel = str(input('Inserire un numero di telefono lungo 10 cifre'))\n",
    "\n",
    "# while len(tel) != 10:  # \"!=\" è il carattere per dire diverso \n",
    "#     print('Il numero inserito non è lungo 10 caratteri!')\n",
    "#     print('Inserire un numero di telefono lungo 10 cifre')\n",
    "\n",
    "# else:\n",
    "#     print(f'({tel[0:3]}) {tel[3:6]}-{tel[6:]}')\n"
   ]
  },
  {
   "cell_type": "markdown",
   "metadata": {},
   "source": [
    "## Esercizio 5: Allineamento\n",
    "\n",
    "Formattare l’output dell’**Esercizio 1** in modo che descrizioni e numeri siano allineati verticalmente, come nel seguente esempio:\n",
    "\n",
    "```text\n",
    "Somma:           45\n",
    "Differenza:      -5\n",
    "Prodotto:       500\n",
    "Distanza:         5\n",
    "Valore massimo:  25\n",
    "Valore minimo:   20\n",
    "```"
   ]
  },
  {
   "cell_type": "code",
   "execution_count": 20,
   "metadata": {},
   "outputs": [
    {
     "name": "stdout",
     "output_type": "stream",
     "text": [
      "Differenza =          -4\n",
      "Somma =               12\n",
      "Prodotto =            32\n",
      "Valore medio =       6.0\n",
      "Distanza =             4\n",
      "Valore massimo =       8\n",
      "Valore minimo =        4\n",
      "\n",
      "ciao:    50\n",
      "ciao:   361\n",
      "ciao:  18.0\n",
      "ciao: 00000018\n",
      "\n",
      "Differenza =             -4\n",
      "Somma =                  12\n",
      "Prodotto =               32\n",
      "Valore medio =          6.0\n",
      "Distanza =                4\n",
      "Valore massimo =          8\n",
      "Valore minimo =           4\n"
     ]
    }
   ],
   "source": [
    "# Scrivi qua il tuo codice\n",
    "\n",
    "a = 4\n",
    "b = 8\n",
    "spaziatura = 8\n",
    "\n",
    "Somma = a + b\n",
    "Differenza = a - b\n",
    "Prodotto = a * b\n",
    "Valore_medio = (a + b)/2\n",
    "Distanza = abs(Differenza)\n",
    "Valore_massimo = max(a, b)\n",
    "Valore_minimo = min(a, b)\n",
    "\n",
    "print(\"Differenza =      \", f'{Differenza:5d}')\n",
    "print(\"Somma =           \", f'{Somma:5d}')\n",
    "print(\"Prodotto =        \", f'{Prodotto:5d}')\n",
    "print(\"Valore medio =    \", f'{Valore_medio:5.1f}')\n",
    "print(\"Distanza =        \", f'{Distanza:5d}')\n",
    "print(\"Valore massimo =  \", f'{Valore_massimo:5d}')\n",
    "print(\"Valore minimo =   \", f'{Valore_minimo:5d}')\n",
    "\n",
    "print()\n",
    "\n",
    "print('ciao:', f'{50:5d}')\n",
    "print('ciao:', f'{361:5d}')\n",
    "print('ciao:', f'{18.0:5.1f}')  # Quell' \".1f\" indica come voglio formattare la parte decimale (1f = 1 dec, 2f = 2 dec)\n",
    "print('ciao:', f'{18:08d}')  # Quello zero riempie di zeri prima\n",
    "\n",
    "print()\n",
    "\n",
    "print(\"Differenza =      \", f'{Differenza:{spaziatura}d}')\n",
    "print(\"Somma =           \", f'{Somma:{spaziatura}d}')\n",
    "print(\"Prodotto =        \", f'{Prodotto:{spaziatura}d}')\n",
    "print(\"Valore medio =    \", f'{Valore_medio:{spaziatura}.1f}')\n",
    "print(\"Distanza =        \", f'{Distanza:{spaziatura}d}')\n",
    "print(\"Valore massimo =  \", f'{Valore_massimo:{spaziatura}d}')\n",
    "print(\"Valore minimo =   \", f'{Valore_minimo:{spaziatura}d}')\n",
    "\n",
    "\n"
   ]
  },
  {
   "cell_type": "markdown",
   "metadata": {},
   "source": [
    "## Esercizio 6: Emoji\n",
    "\n",
    "Secondo i dati raccolti dall'[Unicode Consortium](https://home.unicode.org/emoji/emoji-frequency/), l'organizzazione no-profit responsabile della digitalizzazione delle lingue scritte del mondo, le \"lacrime di gioia\" (😂) rappresentano oltre il 5% di tutte le emoji utilizzate (l’unico altro carattere che ci si avvicina è il ❤️). Nel 2021, le prime dieci emoji più utilizzate in tutto il mondo sono state: 😂 ❤️ 🤣 👍 😭 🙏 😘 🥰 😍 😊.\n",
    "\n",
    "Quando scrivi i messaggi, quali sono le tre emoji che tu usi più di frequente?\n",
    "\n",
    "Scrivere un programma che, per ciascuna delle tre emoji che usi più di frequente, mostri a schermo le seguenti informazioni:\n",
    "\n",
    "- la posizione in classifica (rank);\n",
    "- il codice Unicode;\n",
    "- il nome tecnico Unicode;\n",
    "- l’emoji stessa.\n",
    "\n",
    "Per trovare i codici Unicode corrispondenti a ciascuna emoji, puoi usare uno di questi siti:\n",
    "\n",
    "- [symbl.cc](https://symbl.cc/)\n",
    "- [amp-what.com](https://www.amp-what.com/)\n",
    "\n",
    "\n",
    "Formattare l’output in modo che le informazioni relative a ciascuna delle tre emoji siano raccolte su una riga, e i diversi campi siano allineati verticalmente."
   ]
  },
  {
   "cell_type": "code",
   "execution_count": 31,
   "metadata": {},
   "outputs": [
    {
     "name": "stdout",
     "output_type": "stream",
     "text": [
      "💔\n",
      "💔\n"
     ]
    }
   ],
   "source": [
    "# Scrivi qua il tuo codice\n",
    "\n",
    "chr(0x1F494)  # Cuore spezzato (U+1F494). Sostituiamo U+ con 0x, \n",
    "              # che indica che il numero indicato è base esadecimale.\n",
    "\n",
    "print(chr(0x1F494))\n",
    "\n",
    "var = '💔'\n",
    "print(var)"
   ]
  },
  {
   "cell_type": "markdown",
   "metadata": {},
   "source": [
    "## Esercizio 7: Come matricole\n",
    "\n",
    "La matricola degli studenti di una scuola è composta da due parti: una lettera e una sequenza di numeri separati tra loro da un trattino (`-`). Le lettera indica la sede della scuola mentre la parte numerica è un ID progressivo univoco, indipendente dalla sede. Ad esempio:\n",
    "\n",
    "```text\n",
    "M-600456\n",
    "P-403848\n",
    "```\n",
    "\n",
    "Scrivere un programma che, a partire da due codici di matricola, li mostri a schermo in ordine crescente in base alla sola parte numerica.\n",
    "\n",
    "Suggerimento: utilizzare le funzioni predefinite del linguaggio Python."
   ]
  },
  {
   "cell_type": "code",
   "execution_count": 2,
   "metadata": {},
   "outputs": [
    {
     "name": "stdout",
     "output_type": "stream",
     "text": [
      "S301888\n",
      "S800123\n"
     ]
    }
   ],
   "source": [
    "matricola2 = 'M-600456'\n",
    "matricola1 = 'P-403848'\n",
    "\n",
    "# Scrivi qua il tuo codice\n"
   ]
  }
 ],
 "metadata": {
  "kernelspec": {
   "display_name": ".venv",
   "language": "python",
   "name": "python3"
  },
  "language_info": {
   "codemirror_mode": {
    "name": "ipython",
    "version": 3
   },
   "file_extension": ".py",
   "mimetype": "text/x-python",
   "name": "python",
   "nbconvert_exporter": "python",
   "pygments_lexer": "ipython3",
   "version": "3.10.13"
  }
 },
 "nbformat": 4,
 "nbformat_minor": 2
}
