{
 "cells": [
  {
   "cell_type": "markdown",
   "metadata": {},
   "source": [
    "# Esercizi introduttivi"
   ]
  },
  {
   "cell_type": "markdown",
   "metadata": {},
   "source": [
    "TEMI TRATTATI:\n",
    "\n",
    "- I tipi di variabile.\n",
    "- Gli operatori aritmetici di base.\n",
    "- La manipolazione di stringhe."
   ]
  },
  {
   "cell_type": "markdown",
   "metadata": {},
   "source": [
    "NOTE SULLO SVOLGIMENTO:\n",
    "- Puoi svolgere ed eseguire gli esercizi direttamente qua su questo notebook oppure su un normale file di script Python con estensione `.py`, eseguendolo nel terminale del sistema operativo con il comando `py mio_esercizio.py` (Windows) oppure `python3 mio_esercizio.py` (Linux o macOS)."
   ]
  },
  {
   "cell_type": "markdown",
   "metadata": {},
   "source": [
    "## Esercizio 1: Due numeri\n",
    "\n",
    "Scrivere un programma che memorizzi due numeri interi in due variabili definite nel codice, e poi ne visualizzi:\n",
    "\n",
    "- La somma.\n",
    "- La differenza.\n",
    "- Il prodotto.\n",
    "- Il valore medio.\n",
    "- La distanza (cioè il valore assoluto della differenza).\n",
    "- Il valore massimo (cioè il maggiore tra i due).\n",
    "- Il valore minimo (cioè il minore tra i due).\n",
    "\n",
    "**SUGGERIMENTO:** utilizzare le funzioni built-in `max()` e `min()`. Esse accettano una sequenza di valori separati da virgola in input e restituiscono rispettivamente il valore massimo e minimo della sequenza (ad esempio, `max(10, 5)` restituisce `10`)."
   ]
  },
  {
   "cell_type": "code",
   "execution_count": 1,
   "metadata": {},
   "outputs": [
    {
     "name": "stdout",
     "output_type": "stream",
     "text": [
      "La somma è: 36\n",
      "La differenza è: 32\n",
      "Il prodotto è: 68\n",
      "La media è: 18.0\n",
      "La distanza è: 32 32\n",
      "Il massimo è: 34\n",
      "Il minimo è: 2\n"
     ]
    }
   ],
   "source": [
    "# Scrivi qua il tuo codice\n",
    "\n",
    "Num1 = 34\n",
    "Num2 = 2\n",
    "\n",
    "somma = Num1 + Num2\n",
    "differenza = Num1 - Num2\n",
    "prodotto = Num1 * Num2\n",
    "media = (Num1 + Num2) / 2\n",
    "if (Num1 > Num2):\n",
    "   distanza = Num1 - Num2\n",
    "else :\n",
    "   distanza = Num2 - Num1\n",
    "massimo = max (Num1, Num2)\n",
    "minimo = min (Num1, Num2)\n",
    "\n",
    "print (\"La somma è:\", somma)\n",
    "print (\"La differenza è:\", differenza)\n",
    "print (\"Il prodotto è:\", prodotto)\n",
    "print (\"La media è:\", media)\n",
    "print (\"La distanza è:\", distanza, abs(differenza)) # abs() => valore assoluto, e.g.: abs(-7) =return> 7\n",
    "print (\"Il massimo è:\", massimo)\n",
    "print (\"Il minimo è:\", minimo)\n"
   ]
  },
  {
   "cell_type": "markdown",
   "metadata": {},
   "source": [
    "## Esercizio 2: Cifre\n",
    "\n",
    "Scrivere un programma che memorizzi in una costante un numero intero positivo di cinque cifre (quindi compreso tra `10000` e `99999`), e visualizzi le singole cifre di cui è composto. Ad esempio, avendo il numero `16384`, il programma deve visualizzare, su righe separate:\n",
    "\n",
    "```text\n",
    "1\n",
    "6\n",
    "3\n",
    "8\n",
    "4\n",
    "```"
   ]
  },
  {
   "cell_type": "code",
   "execution_count": 35,
   "metadata": {},
   "outputs": [
    {
     "name": "stdout",
     "output_type": "stream",
     "text": [
      "1\n",
      "6\n",
      "3\n",
      "8\n",
      "4\n",
      "\n",
      "1\n",
      "6\n",
      "3\n",
      "8\n",
      "4\n"
     ]
    }
   ],
   "source": [
    "# Scrivi qua il tuo codice\n",
    "\n",
    "input_utente= 16384\n",
    "input_utente = str(input_utente)\n",
    "x = len(input_utente)\n",
    "\n",
    "for x in input_utente :\n",
    "    print (x)\n",
    "\n",
    "print ()\n",
    "\n",
    "input_u = 16384\n",
    "input_u = str(input_u)\n",
    "print (input_u[0], input_u [1], input_u [2], input_u [3], input_u [4], sep= '\\n')\n",
    "\n"
   ]
  },
  {
   "cell_type": "markdown",
   "metadata": {},
   "source": [
    "## Esercizio 3: Caratteri\n",
    "\n",
    "Scrivere un programma che memorizzi una stringa in una variabile e, a partire da quella variabile, visualizzi i primi tre caratteri della stringa, seguiti da tre punti, ancora seguiti dagli ultimi tre caratteri.\n",
    "\n",
    "Ad esempio, se la stringa viene inizializzata al valore `'Mississippi'`, il programma deve visualizzare `'Mis...ppi'`."
   ]
  },
  {
   "cell_type": "code",
   "execution_count": 7,
   "metadata": {},
   "outputs": [
    {
     "name": "stdout",
     "output_type": "stream",
     "text": [
      "Mis\n",
      "...\n",
      "ppi\n"
     ]
    }
   ],
   "source": [
    "# Scrivi qua il tuo codice\n",
    "\n",
    "stringa = 'Missi1235456748ssippi'\n",
    "\n",
    "part1 = stringa[0:3]\n",
    "part2 = '...'\n",
    "part3 = stringa [-3:]\n",
    "\n",
    "print (part1, part2, part3, sep=\"\\n\")"
   ]
  },
  {
   "cell_type": "markdown",
   "metadata": {},
   "source": [
    "Prova a rispondere alle seguenti domande:\n",
    "- Cosa succede se la stringa è lunga meno di 6 caratteri?\n",
    "- Cosa succede se la stringa è lunga meno di 3 caratteri?"
   ]
  },
  {
   "cell_type": "markdown",
   "metadata": {},
   "source": [
    "## Esercizio 4: Numero telefonico\n",
    "\n",
    "Lo pseudocodice seguente descrive come trasformare una stringa contenente un numero telefonico a dieci cifre (come `'4155551212'`) in una stringa più facilmente leggibile, formattata secondo lo stile statunitense, come `'(415) 555–1212'`:\n",
    "\n",
    "1. Prendere la stringa costituita dai primi tre caratteri e circondarla con parentesi tonde (questo è il prefisso, detto \"area code\").\n",
    "2. Concatenare il prefisso ad uno spazio, poi alla stringa contenente i tre caratteri successivi, poi un trattino e infine alla stringa costituita dagli ultimi quattro caratteri.\n",
    "\n",
    "Tradurre questo pseudocodice in un programma Python che memorizzi un numero telefonico di 10 cifre in una stringa, per poi visualizzarlo nel formato appena descritto."
   ]
  },
  {
   "cell_type": "code",
   "execution_count": 11,
   "metadata": {},
   "outputs": [
    {
     "name": "stdout",
     "output_type": "stream",
     "text": [
      "(415) 555-1212\n"
     ]
    }
   ],
   "source": [
    "# Scrivi qua il tuo codice\n",
    "number = 4155551212\n",
    "\n",
    "number = str(number)\n",
    "if len(number) != 10:\n",
    "    print (\"Il numero non è lungo 10 cifre!\")\n",
    "\n",
    "first_part = number[:3]\n",
    "second_part = number [3:6]\n",
    "third_part = number [6:]\n",
    "print (f'({first_part}) {second_part}-{third_part}')"
   ]
  },
  {
   "cell_type": "markdown",
   "metadata": {},
   "source": [
    "## Esercizio 5: Allineamento\n",
    "\n",
    "Formattare l’output dell’**Esercizio 1** in modo che descrizioni e numeri siano allineati verticalmente, come nel seguente esempio:\n",
    "\n",
    "```text\n",
    "Somma:           45\n",
    "Differenza:      -5\n",
    "Prodotto:       500\n",
    "Distanza:         5\n",
    "Valore massimo:  25\n",
    "Valore minimo:   10\n",
    "```"
   ]
  },
  {
   "cell_type": "code",
   "execution_count": 9,
   "metadata": {},
   "outputs": [
    {
     "name": "stdout",
     "output_type": "stream",
     "text": [
      "La somma è:              36\n",
      "La differenza è:         32\n",
      "Il prodotto è:           68\n",
      "La media è:            18.0\n",
      "La distanza è:           32\n",
      "Il massimo è:            34\n",
      "Il minimo è:              2\n"
     ]
    }
   ],
   "source": [
    "# Scrivi qua il tuo codice\n",
    "\n",
    "Num1 = 34\n",
    "Num2 = 2\n",
    "\n",
    "somma = Num1 + Num2\n",
    "differenza = Num1 - Num2\n",
    "prodotto = Num1 * Num2\n",
    "media = (Num1 + Num2) / 2\n",
    "distanza = abs(differenza)\n",
    "massimo = max (Num1, Num2)\n",
    "minimo = min (Num1, Num2)\n",
    "\n",
    "somma = str(somma)\n",
    "differenza = str (differenza)\n",
    "prodotto = str (prodotto)\n",
    "media = str (media)\n",
    "distanza = str (distanza)\n",
    "massimo = str (massimo)\n",
    "minimo = str (minimo)\n",
    "\n",
    "somma_str = \"La somma è:\"\n",
    "diff_str = \"La differenza è:\"\n",
    "prod_str = \"Il prodotto è:\"\n",
    "media_str = \"La media è:\"\n",
    "dist_str = \"La distanza è:\"\n",
    "max_str = \"Il massimo è:\"\n",
    "min_str = \"Il minimo è:\"\n",
    "\n",
    "len_l = max(len(somma_str), len(diff_str), len(prod_str), len(media_str), len(dist_str), len(max_str), len(min_str))\n",
    "\n",
    "print (somma_str.ljust(len_l), somma.rjust(10))\n",
    "print (diff_str.ljust(len_l), differenza.rjust(10))\n",
    "print (prod_str.ljust(len_l), prodotto.rjust(10))\n",
    "print (media_str.ljust(len_l), media.rjust(10))\n",
    "print (dist_str.ljust(len_l), distanza.rjust(10))\n",
    "print (max_str.ljust(len_l), massimo.rjust(10))\n",
    "print (min_str.ljust(len_l), minimo.rjust(10))\n"
   ]
  },
  {
   "cell_type": "markdown",
   "metadata": {},
   "source": [
    "## Esercizio 6: Emoji\n",
    "\n",
    "Secondo i dati raccolti dall'[Unicode Consortium](https://home.unicode.org/emoji/emoji-frequency/), l'organizzazione no-profit responsabile della digitalizzazione delle lingue scritte del mondo, le \"lacrime di gioia\" (😂) rappresentano oltre il 5% di tutte le emoji utilizzate (l’unico altro carattere che ci si avvicina è il ❤️). Nel 2021, le prime dieci emoji più utilizzate in tutto il mondo sono state: 😂 ❤️ 🤣 👍 😭 🙏 😘 🥰 😍 😊.\n",
    "\n",
    "Quando scrivi i messaggi, quali sono le tre emoji che tu usi più di frequente?\n",
    "\n",
    "Scrivere un programma che, per ciascuna delle tre emoji che usi più di frequente, mostri a schermo le seguenti informazioni:\n",
    "\n",
    "- la posizione in classifica (rank);\n",
    "- il codice Unicode;\n",
    "- il nome tecnico Unicode;\n",
    "- l’emoji stessa.\n",
    "\n",
    "Per trovare i codici Unicode corrispondenti a ciascuna emoji, puoi usare uno di questi siti:\n",
    "\n",
    "- [symbl.cc](https://symbl.cc/)\n",
    "- [amp-what.com](https://www.amp-what.com/)\n",
    "\n",
    "\n",
    "Formattare l’output in modo che le informazioni relative a ciascuna delle tre emoji siano raccolte su una riga, e i diversi campi siano allineati verticalmente."
   ]
  },
  {
   "cell_type": "code",
   "execution_count": 6,
   "metadata": {},
   "outputs": [],
   "source": [
    "# Scrivi qua il tuo codice\n",
    "\n"
   ]
  },
  {
   "cell_type": "markdown",
   "metadata": {},
   "source": [
    "## Esercizio 7: Come matricole\n",
    "\n",
    "La matricola degli studenti di una scuola è composta da due parti: una lettera e una sequenza di numeri separati tra loro da un trattino (`-`). Le lettera indica la sede della scuola mentre la parte numerica è un ID progressivo univoco, indipendente dalla sede. Ad esempio:\n",
    "\n",
    "```text\n",
    "M-600456\n",
    "P-403848\n",
    "```\n",
    "\n",
    "Scrivere un programma che, a partire da due codici di matricola, li mostri a schermo in ordine crescente in base alla sola parte numerica.\n",
    "\n",
    "Suggerimento: utilizzare le funzioni predefinite del linguaggio Python."
   ]
  },
  {
   "cell_type": "code",
   "execution_count": 7,
   "metadata": {},
   "outputs": [],
   "source": [
    "matricola2 = 'M-600456'\n",
    "matricola1 = 'P-403848'\n",
    "\n",
    "# Scrivi qua il tuo codice\n"
   ]
  }
 ],
 "metadata": {
  "kernelspec": {
   "display_name": ".venv",
   "language": "python",
   "name": "python3"
  },
  "language_info": {
   "codemirror_mode": {
    "name": "ipython",
    "version": 3
   },
   "file_extension": ".py",
   "mimetype": "text/x-python",
   "name": "python",
   "nbconvert_exporter": "python",
   "pygments_lexer": "ipython3",
   "version": "3.12.2"
  }
 },
 "nbformat": 4,
 "nbformat_minor": 2
}
