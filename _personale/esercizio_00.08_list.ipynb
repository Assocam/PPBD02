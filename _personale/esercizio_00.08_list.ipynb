{
 "cells": [
  {
   "cell_type": "markdown",
   "metadata": {},
   "source": [
    "# Esercizi introduttivi"
   ]
  },
  {
   "cell_type": "markdown",
   "metadata": {},
   "source": [
    "TEMI TRATTATI:\n",
    "\n",
    "- Liste di elementi\n",
    "- Usare il ciclo for per scorrere una lista\n",
    "- Uso di funzioni e metodi per manipolare liste"
   ]
  },
  {
   "cell_type": "markdown",
   "metadata": {},
   "source": [
    "NOTE SULLO SVOLGIMENTO:\n",
    "- Puoi svolgere ed eseguire gli esercizi direttamente qua su questo notebook oppure su un normale file di script Python con estensione `.py`, eseguendolo nel terminale del sistema operativo con il comando `py mio_esercizio.py` (Windows) oppure `python3 mio_esercizio.py` (Linux o macOS)."
   ]
  },
  {
   "cell_type": "markdown",
   "metadata": {},
   "source": [
    "## Esercizio 1: Somma a segni alterni\n",
    "\n",
    "Scrivere un programma che riceva in input una sequenza di numeri interi, e che calcoli la somma alternata dei suoi elementi.\n",
    "\n",
    "Ad esempio, se il programma legge i dati `1 4 9 16 9 7 4 9 11`, deve calcolare\n",
    "\n",
    "1 – 4 + 9 – 16 + 9 – 7 + 4 – 9 + 11 = -2\n",
    "\n",
    "e visualizzare:\n",
    "\n",
    "`La somma alternata è: –2`"
   ]
  },
  {
   "cell_type": "code",
   "execution_count": 3,
   "metadata": {},
   "outputs": [
    {
     "name": "stdout",
     "output_type": "stream",
     "text": [
      " +1 -4 +9 -16 +9 -7 +4 -9 +11 = 2\n"
     ]
    }
   ],
   "source": [
    "# Scrivi qua il tuo codice\n",
    "lista = [1,4,9,16,9,7,4,9,11]\n",
    "somma_alterna = 0\n",
    "x = 0\n",
    "\n",
    "for n in lista:\n",
    "    if x % 2 == 0:\n",
    "        print(f' +{n}', end='')\n",
    "        somma_alterna = somma_alterna - n # somma_alterna -= n\n",
    "    else:\n",
    "        print(f' -{n}', end='')\n",
    "        somma_alterna = somma_alterna + n # somma_alterna += n\n",
    "    x += 1\n",
    "\n",
    "print(f' = {somma_alterna}')"
   ]
  },
  {
   "cell_type": "markdown",
   "metadata": {},
   "source": [
    "## Esercizio 2: Lista di numeri casuali\n",
    "\n",
    "Scrivere un programma che inizializzi una lista con dieci numeri interi casuali tra `1` e `100` e poi visualizzi, su quattro righe successive:\n",
    "\n",
    "- Tutti gli elementi di indice pari;\n",
    "- Tutti gli elementi di valore pari;\n",
    "- Tutti gli elementi in ordine inverso;\n",
    "- Il primo e l’ultimo elemento."
   ]
  },
  {
   "cell_type": "markdown",
   "metadata": {},
   "source": [
    "ESEMPIO DI OUTPUT ATTESO:\n",
    "\n",
    "```text\n",
    "Elementi in posizione pari: 49 45 32 10 62 \n",
    "Gli elementi pari sono: 70 36 32 98 10 62 56 \n",
    "In ordine inverso: 56 62 85 10 98 32 36 45 70 49 \n",
    "Primo e ultimo: 49 56\n",
    "```"
   ]
  },
  {
   "cell_type": "code",
   "execution_count": 5,
   "metadata": {},
   "outputs": [
    {
     "name": "stdout",
     "output_type": "stream",
     "text": [
      "La lista di numeri casuali è: [47, 43, 47, 67, 67, 17, 59, 46, 64, 90]\n",
      "Elementi in posizione pari: [47, 47, 67, 59, 64]\n",
      "Gli elementi pari sono: [46, 64, 90]\n",
      "In ordine inverso: [90, 64, 46, 59, 17, 67, 67, 47, 43, 47]\n",
      "Primo e ultimo: [47, 90]\n"
     ]
    }
   ],
   "source": [
    "# Scrivi qua il tuo codice\n",
    "import random\n",
    "numeri = []\n",
    "indice_pari = []\n",
    "valore_pari = []\n",
    "list_reversed = []\n",
    "first_last = []\n",
    "\n",
    "for i in range(10):\n",
    "    x = random.randint(1, 100)\n",
    "    numeri.append(x)\n",
    "    if i % 2 == 0:\n",
    "        indice_pari.append(x)\n",
    "    if x % 2 == 0:\n",
    "        valore_pari.append(x)\n",
    "    if i == 0 or i == 9:\n",
    "        first_last.append(x)\n",
    "\n",
    "list_reversed = numeri[::-1]\n",
    "\n",
    "print(f'La lista di numeri casuali è: {numeri}')\n",
    "print(f'Elementi in posizione pari: {indice_pari}')\n",
    "print(f'Gli elementi pari sono: {valore_pari}')\n",
    "print(f'In ordine inverso: {list_reversed}')\n",
    "print(f'Primo e ultimo: {first_last}')\n",
    "\n",
    "\n"
   ]
  },
  {
   "cell_type": "code",
   "execution_count": 2,
   "metadata": {},
   "outputs": [
    {
     "data": {
      "text/plain": [
       "50"
      ]
     },
     "execution_count": 2,
     "metadata": {},
     "output_type": "execute_result"
    }
   ],
   "source": [
    "import random\n",
    "\n",
    "x = random.randint(1, 100)\n",
    "x"
   ]
  },
  {
   "cell_type": "markdown",
   "metadata": {},
   "source": [
    "## Esercizio 3: Rimuovere il valore minimo\n",
    "\n",
    "Scrivere una funzione `rimuovi_minimo(v)` che rimuova la prima occorrenza del valore minimo da una lista `v` senza usare la funzione `min()` né il metodo `remove()`.\n",
    "\n",
    "La funzione deve restituire una nuova lista, lasciando inalterata quella originale."
   ]
  },
  {
   "cell_type": "code",
   "execution_count": 15,
   "metadata": {},
   "outputs": [
    {
     "name": "stdout",
     "output_type": "stream",
     "text": [
      "[1, 4, 5, 6, 10]\n",
      "[4, 5, 6, 10]\n"
     ]
    }
   ],
   "source": [
    "# Scrivi qua il tuo codice\n",
    "def rimuovi_minimo(v):\n",
    "    minimo = v[0]\n",
    "    lista =[]\n",
    "    for n in v:\n",
    "        if n < minimo:\n",
    "            minimo = v\n",
    "    for n in v:\n",
    "        if n != minimo:\n",
    "            lista.append(n)\n",
    "    return lista\n",
    "#-- Main()\n",
    "lista = [1, 4, 5, 6, 10]\n",
    "lista2 = rimuovi_minimo(lista)\n",
    "\n",
    "print(lista)\n",
    "print(lista2)"
   ]
  },
  {
   "cell_type": "code",
   "execution_count": null,
   "metadata": {},
   "outputs": [
    {
     "data": {
      "text/plain": [
       "[1, 4, 6, 10]"
      ]
     },
     "execution_count": 7,
     "metadata": {},
     "output_type": "execute_result"
    }
   ],
   "source": [
    "tiral = [1, 2, 4, 6, 10]\n",
    "tiral.pop(1)\n",
    "tiral"
   ]
  },
  {
   "cell_type": "markdown",
   "metadata": {},
   "source": [
    "## Esercizio 4: Gli stessi elementi\n",
    "\n",
    "Scrivere la funzione `same_set(list_a, list_b)` che verifichi se due liste contengono gli stessi elementi, indipendentemente dall’ordine e ignorando la presenza di duplicati. Ad esempio, le due liste `1 4 9 16 9 7 4 9 11` e `11 11 7 9 16 4 1` devono essere considerate uguali.\n",
    "\n",
    "La funzione non deve modificare le liste che sono state passate come parametri.\n"
   ]
  },
  {
   "cell_type": "code",
   "execution_count": 2,
   "metadata": {},
   "outputs": [
    {
     "name": "stdout",
     "output_type": "stream",
     "text": [
      "The two list are the same\n"
     ]
    }
   ],
   "source": [
    "# Scrivi qua il tuo codice\n",
    "def same_set(list1, list2):\n",
    "    set1 = set()\n",
    "    set2 = set()\n",
    "    for e in list1:\n",
    "        set1.add(e)\n",
    "    for e in list2:\n",
    "        set2.add(e)\n",
    "    set3 = set1.difference(set2)\n",
    "    if len(set3) != 0:\n",
    "        print(f'The two list are different:\\n{set3}')\n",
    "    else:\n",
    "        print('The two list are the same')\n",
    "    \n",
    "#- Main()\n",
    "list_a = [1, 4, 9, 16, 9, 7, 4, 9, 11]\n",
    "list_b = [11, 11, 7, 9, 16, 4, 1]\n",
    "\n",
    "same_set(list_a, list_b)\n"
   ]
  },
  {
   "cell_type": "markdown",
   "metadata": {},
   "source": [
    "## Esercizio 5: Lista ordinata\n",
    "\n",
    "Scrivere un programma che generi una sequenza di 20 valori interi casuali compresi tra `0` e `99`, poi visualizzi la sequenza generata, la ordini e la visualizzi di nuovo, ordinata.\n",
    "\n",
    "Usate la funzione built-in `sort()`."
   ]
  },
  {
   "cell_type": "code",
   "execution_count": 6,
   "metadata": {},
   "outputs": [
    {
     "name": "stdout",
     "output_type": "stream",
     "text": [
      "[75, 44, 75, 37, 53, 21, 99, 53, 4, 54, 35, 32, 5, 90, 40, 9, 0, 0, 63, 76]\n",
      "[0, 0, 4, 5, 9, 21, 32, 35, 37, 40, 44, 53, 53, 54, 63, 75, 75, 76, 90, 99]\n"
     ]
    }
   ],
   "source": [
    "# Scrivi qua il tuo codice\n",
    "import random\n",
    "lista = []\n",
    "for _ in range(20):\n",
    "    lista.append(random.randint(0,99))\n",
    "print(lista)\n",
    "lista.sort()\n",
    "print(lista)"
   ]
  },
  {
   "cell_type": "markdown",
   "metadata": {},
   "source": [
    "## Esercizio 6: Levigare gli errori\n",
    "\n",
    "Spesso i dati raccolti durante un esperimento vanno elaborati per rimuovere parte del rumore di misura.\n",
    "\n",
    "Uno tra gli approcci più semplici a questo problema prevede di sostituire, in una lista di valori, ciascun valore con la media tra il valore stesso e i due valori adiacenti. Se il valore in esame si trova a una delle due estremità della lista, la media sarà con l’unico valore adiacente.\n",
    "\n",
    "Per comprendere meglio a cosa possa servire tale operazione, ecco un esempio:\n",
    "\n",
    "![es_00.07_smooth.png](../imgs/es_00.07_smooth.png)\n",
    "\n",
    "Scrivere un programma che svolga tale operazione, creando una nuova lista.\n",
    "\n",
    "Poi prova senza creare una seconda lista, il che è un po' più compolicato perché bisogna evitare di calcolare la media usando i valore già precedentemente modificati."
   ]
  },
  {
   "cell_type": "code",
   "execution_count": null,
   "metadata": {},
   "outputs": [],
   "source": [
    "# Scrivi qua il tuo codice\n"
   ]
  },
  {
   "cell_type": "markdown",
   "metadata": {},
   "source": [
    "## Esercizio 7: Rotazione di una lista\n",
    "\n",
    "Scrivere lo pseudocodice per un algoritmo che, data una lista di lunghezza definita, sposta gli elementi \"in avanti\" di una posizione (incrementando quindi il loro indice di una unità), e sposta l’elemento all’ultima posizione nella prima posizione.\n",
    "\n",
    "Ad esempio, la lista `1 7 9 3 0 4`, dopo questa operazione, diventa la lista `4 1 7 9 3 0`.\n",
    "\n",
    "Scrivere poi un programma che implementi l’algoritmo così definito."
   ]
  },
  {
   "cell_type": "code",
   "execution_count": null,
   "metadata": {},
   "outputs": [],
   "source": [
    "# Scrivi qua il tuo codice\n",
    "\n"
   ]
  }
 ],
 "metadata": {
  "kernelspec": {
   "display_name": ".venv",
   "language": "python",
   "name": "python3"
  },
  "language_info": {
   "codemirror_mode": {
    "name": "ipython",
    "version": 3
   },
   "file_extension": ".py",
   "mimetype": "text/x-python",
   "name": "python",
   "nbconvert_exporter": "python",
   "pygments_lexer": "ipython3",
   "version": "3.12.2"
  }
 },
 "nbformat": 4,
 "nbformat_minor": 2
}
