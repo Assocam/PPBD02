{
 "cells": [
  {
   "cell_type": "markdown",
   "metadata": {},
   "source": [
    "# Esercizi introduttivi"
   ]
  },
  {
   "cell_type": "markdown",
   "metadata": {},
   "source": [
    "TEMI TRATTATI:\n",
    "\n",
    "- Elaborazioni e confronti tra variabili con valori di tipo `int`, `float` e `str`.\n",
    "- Espressioni booleane.\n",
    "- Scelte logiche."
   ]
  },
  {
   "cell_type": "markdown",
   "metadata": {},
   "source": [
    "NOTE SULLO SVOLGIMENTO:\n",
    "- Puoi svolgere ed eseguire gli esercizi direttamente qua su questo notebook oppure su un normale file di script Python con estensione `.py`, eseguendolo nel terminale del sistema operativo con il comando `py mio_esercizio.py` (Windows) oppure `python3 mio_esercizio.py` (Linux o macOS)."
   ]
  },
  {
   "cell_type": "markdown",
   "metadata": {},
   "source": [
    "## Esercizio 1: Vero o Falso\n",
    "\n",
    "Per ciascuna delle seguenti coppie di valori, eseguire un test di uguaglianza, assegnare il risultato ad una variabile, e visualizzarlo. Provare a prevedere quale sarà il risultato di ciascuna verifica.\n",
    "\n",
    "```text\n",
    "1, 1\n",
    "\n",
    "1, 1.0\n",
    "\n",
    "2.0, sqrt(4)\n",
    "\n",
    "'1', 1\n",
    "\n",
    "'ciao', 'Ciao'.\n",
    "```"
   ]
  },
  {
   "cell_type": "markdown",
   "metadata": {},
   "source": [
    "ESEMPIO:\n",
    "\n",
    "```python\n",
    "esempio = 'pippo' == 'pippo'\n",
    "print(esempio)\n",
    "# True\n",
    "```"
   ]
  },
  {
   "cell_type": "code",
   "execution_count": 9,
   "metadata": {},
   "outputs": [
    {
     "name": "stdout",
     "output_type": "stream",
     "text": [
      "1 == 1?                    True\n",
      "1 == 1.0?                  True\n",
      "2.0 == sqrt(4)?            True\n",
      "\"1\" == 1?                 False\n",
      "\"ciao\" == \"ciao\"?          True\n"
     ]
    }
   ],
   "source": [
    "# Scrivi qua il tuo codice\n",
    "from math import sqrt\n",
    "\n",
    "if 1 == 1:\n",
    "    print (\"1 == 1?\".ljust(20), str(True).rjust(10))\n",
    "else: \n",
    "    print (\"1 == 1?\".ljust(20), str(False).rjust(10))\n",
    "\n",
    "if 1 == 1.0:\n",
    "    print (\"1 == 1.0?\".ljust(20), str(True).rjust(10))\n",
    "else: \n",
    "    print (\"1 == 1.0?\".ljust(20), str(False).rjust(10))\n",
    "\n",
    "\n",
    "if 2.0 == sqrt(4):\n",
    "    print (\"2.0 == sqrt(4)?\".ljust(20), str(True).rjust(10))\n",
    "else: \n",
    "    print (\"2.0 == sqrt(4)?\".ljust(20), str(False).rjust(10)) \n",
    "\n",
    "if \"1\" == 1:\n",
    "    print ('\"1\" == 1?'.ljust(20), str(True).rjust(10))\n",
    "else: \n",
    "    print ('\"1\" == 1?'.ljust(20), str(False).rjust(10))   \n",
    "\n",
    "if \"ciao\" == \"ciao\":\n",
    "    print ('\"ciao\" == \"ciao\"?'.ljust(20), str(True).rjust(10))\n",
    "else: \n",
    "    print ('\"ciao\" == \"ciao\"?'.ljust(20), str(False).rjust(10))"
   ]
  },
  {
   "cell_type": "markdown",
   "metadata": {},
   "source": [
    "## Esercizio 2: Identikit della stringa\n",
    "\n",
    "Scrivere un programma che legga una stringa e visualizzi dei messaggi appropriati, dopo aver verificato se:\n",
    "\n",
    "- contiene soltanto lettere;\n",
    "- contiene soltanto lettere maiuscole;\n",
    "- contiene soltanto lettere minuscole;\n",
    "- contiene soltanto cifre numeriche decimali;\n",
    "- contiene soltanto lettere e cifre;\n",
    "- inizia con una lettera maiuscola;\n",
    "- termina con un punto."
   ]
  },
  {
   "cell_type": "code",
   "execution_count": 7,
   "metadata": {},
   "outputs": [],
   "source": [
    "# Scrivi qua il tuo codice\n",
    "\n",
    "message = input (\"Prego, inserire un messaggio:\")\n",
    "print (\"Hai inserito:\", message)\n",
    "\n",
    "if message.isalpha():\n",
    "    print (\"La stringa contiene solo caratteri alfabetici.\")\n",
    "if message.isdigit():\n",
    "    print (\"La stringa contiene solo numeri.\")\n",
    "if message.isalpha() and message.isdigit():\n",
    "    print (\"La stringa contiene solo caratteri e numeri\")\n",
    "if message.islower() and message.isalpha():\n",
    "    print (\"La stringa contine solo caratteri minuscoli.\")\n",
    "if message.isupper() and message.islower():\n",
    "    print (\"La stringa contiene solo caratteri maiuscoli.\")\n",
    "if message.endswith(\".\"):\n",
    "    print (\"La stringa finisce con un punto.\")\n",
    "if message[0].isupper():\n",
    "    print (\"La stringa comincia con una maiuscola.\")"
   ]
  },
  {
   "cell_type": "markdown",
   "metadata": {},
   "source": [
    "## Esercizio 3: Tracce genetiche\n",
    "\n",
    "Le sequenze di DNA sono come lunghe stringhe composte da solo quattro lettere: `'A'`, `'C'`, `'T'` e `'G'`. Scrivere un programma che prenda in input una \"sequenza lunga\" di DNA di venti caratteri e una \"sequenza breve\" di tre caratteri e visualizzi le seguenti informazioni:\n",
    "\n",
    "1. Se la \"sequenza breve\" è presente all'interno della \"sequenza lunga\".\n",
    "2. Se presente, a partire da quale posizione (indice) della \"sequenza lunga\" è presente la \"sequenza breve\".\n",
    "3. Se presente, quante volte la \"sequenza breve\" è contenuta nella \"sequenza lunga\"."
   ]
  },
  {
   "cell_type": "code",
   "execution_count": 18,
   "metadata": {},
   "outputs": [
    {
     "name": "stdout",
     "output_type": "stream",
     "text": [
      "La stringa breve \"123\" è contenuta in quella più lunga, per un totale di 2° volte, la cui prima occorenza è alla posizione 0\n",
      "\n",
      "la lista lunga è:\n",
      "['1', '2', '3', '4', '5', '6', '7', '8', '9', '0', '1', '2', '3', '4', '5', '6', '7', '8', '9', '0']\n",
      "\n",
      "La lista corta è:\n",
      "['1', '2', '3']\n",
      "\n"
     ]
    }
   ],
   "source": [
    "# Scrivi qua il tuo codice\n",
    "\n",
    "x=0\n",
    "long_seq = None\n",
    "short_seq = None\n",
    "count = 0\n",
    "\n",
    "while (x == 0):\n",
    "    string_void = input (\"Inserire una sequenza massimo 20 caratteri:\")\n",
    "    if (len(string_void) == 20):\n",
    "        long_seq = string_void\n",
    "        x +=1\n",
    "x = 0\n",
    "string_void = None\n",
    "while (x == 0):\n",
    "    string_void = input (\"Inserire una sequenza corta:\")\n",
    "    if (len(string_void) == 3):\n",
    "        short_seq = string_void\n",
    "        x += 1\n",
    "\n",
    "# can also use but you have to put the second print inside of the 'if' or it will cause an error if it does not find anything as the code has to execute it\n",
    "# if short_seq in long_seq:\n",
    "#     print (\"La sequenza corta è presente nella sequenza lunga.\")\n",
    "#     print (f'La sequenza corta parte nella sequenza lunga dal {long_seq.index(short_seq)}° caratterre')\n",
    "\n",
    "x = 0\n",
    "find_seq = long_seq.find(short_seq)  # if you don't find anything it will return \"-1\" if you find you'll get the position of what you found.\n",
    "count_seq = long_seq.count(short_seq)\n",
    "\n",
    "# if find_seq != -1:\n",
    "#     print (\"La sequenza corta è presente nella sequenza lunga.\")\n",
    "#     print (f'La sequenza corta parte nella sequenza lunga dal {find_seq}° caratterre')\n",
    "# \n",
    "# if count == 1:\n",
    "#     print (f'La sequenza corta è presenta nella lunga {count_seq} volta.')\n",
    "# else:\n",
    "#     print (f'La sequenza corta è presenta nella lunga {count_seq} volte.')\n",
    "\n",
    "if find_seq != -1:\n",
    "    str_volta = \"volta\" if count_seq == 1 else \"volte\"\n",
    "    print (f'La stringa breve \"{short_seq}\" è contenuta in quella più lunga,'\n",
    "            f' per un totale di {count_seq}° {str_volta}, la cui prima occorenza è '\n",
    "            f'alla posizione {find_seq}')\n",
    "else:\n",
    "    print (f'la stringa breve {short_seq} non si trova nella stringa lunga.')\n",
    "\n",
    "print ()\n",
    "\n",
    "\n",
    "print (f'la lista lunga è:\\n{list(long_seq)}\\n')\n",
    "print (f'La lista corta è:\\n{list(short_seq)}\\n')\n",
    "\n",
    "\n"
   ]
  },
  {
   "cell_type": "code",
   "execution_count": 25,
   "metadata": {},
   "outputs": [
    {
     "name": "stdout",
     "output_type": "stream",
     "text": [
      "['s', 'd', 's'] \n",
      "\n",
      "['1', '2', '3', '4', '5', '6', '7', '8', '9', '0', '1', '2', '3', '4', '5', '6', '7', '8', '9', '0'] \n",
      "\n"
     ]
    }
   ],
   "source": [
    "# Scrivi qua il tuo codice\n",
    "\n",
    "x=0\n",
    "long_seq = []\n",
    "short_seq = []\n",
    "\n",
    "\n",
    "# while i can do it like this it's far easier to use the list() method instead as it would do this already by itself\n",
    "while (x == 0):\n",
    "    string_void = input (\"Inserire una sequenza massimo 20 caratteri:\")\n",
    "    if (len(string_void) == 20):\n",
    "        for letter in string_void:\n",
    "            long_seq.append(letter)\n",
    "        x +=1\n",
    "x = 0\n",
    "while (x == 0):\n",
    "    string_void = input (\"Inserire una sequenza corta:\")\n",
    "    if (len(string_void) == 3):\n",
    "        for letter in string_void:\n",
    "            short_seq.append(letter)\n",
    "        x += 1\n",
    "\n",
    "    \n",
    "\n",
    "print (short_seq, \"\\n\")\n",
    "print (long_seq, \"\\n\")\n",
    "\n",
    "\n"
   ]
  },
  {
   "cell_type": "markdown",
   "metadata": {},
   "source": [
    "## Esercizio 4: Questione di logica\n",
    "\n",
    "Scrivere un programma che prenda in input un numero intero `x` e visualizzi a schermo le seguenti espressioni, accompagnate dai valori di verità risultanti dalla loro valutazione.\n",
    "\n",
    "- `0 and x < 100`\n",
    "- `0 or x < 100`\n",
    "- `0 or 100 < x`\n",
    "- `0 and x < 100 or x == -1`\n",
    "\n",
    "Testare il programma con numerosi valori di x."
   ]
  },
  {
   "cell_type": "markdown",
   "metadata": {},
   "source": [
    "ESEMPIO:\n",
    "\n",
    "Se `x = 200`\n",
    "\n",
    "Output atteso:\n",
    "\n",
    "```text\n",
    "200 > 0 and 200 < 100 : False\n",
    "200 > 0 or 200 < 100 : True\n",
    "200 > 0 or 100 < 200 : True\n",
    "200 > 0 and 200 < 100 or 200 == -1 : False\n",
    "\n",
    "```"
   ]
  },
  {
   "cell_type": "code",
   "execution_count": 33,
   "metadata": {},
   "outputs": [
    {
     "name": "stdout",
     "output_type": "stream",
     "text": [
      "200 > 0 and 200 < 100: False\n",
      "200 > 0 or 200 < 100: True\n",
      "200 > 0 or 100 < 200: True\n",
      "200 > 0 and x < 100 or 200 == -1: False\n"
     ]
    }
   ],
   "source": [
    "# Scrivi qua il tuo codice\n",
    "\n",
    "x = int(input (\"Inserire un numero:\"))\n",
    "\n",
    "if x > 0  and x < 100:\n",
    "    print (f'{x} > 0 and {x} < 100: True')\n",
    "else:\n",
    "    print (f'{x} > 0 and {x} < 100: False')\n",
    "\n",
    "if x > 0 or x < 100:\n",
    "    print (f'{x} > 0 or {x} < 100: True')\n",
    "else:\n",
    "    print (f'{x} > 0 or {x} < 100: False')\n",
    "\n",
    "if x > 0 or 100 < x:\n",
    "    print (f'{x} > 0 or 100 < {x}: True')\n",
    "else:\n",
    "    print (f'{x} > 0 or 100 < {x}: False')\n",
    "\n",
    "if x > 0 and x < 100 or 200 == -1:\n",
    "    print (f'{x} > 0 and x < 100 or 200 == -1: True')\n",
    "else:\n",
    "    print (f'{x} > 0 and x < 100 or 200 == -1: False')\n"
   ]
  },
  {
   "cell_type": "markdown",
   "metadata": {},
   "source": [
    "## Esercizio 5: De Morgan (+)\n",
    "\n",
    "La legge di De Morgan permette di semplificare l'applicazione dell'operatore `not` ad espressioni che contengono operatori `and` e/o `or`. In particolare, questa legge ha due forme, una per la negazione di espressioni in `and`, e una per la negazione di espressioni in `or`:\n",
    "\n",
    "|               | equivale a\n",
    "--------------- | ------------------|\n",
    "`not (A and B)` | `not A or not B`  |\n",
    "`not (A or B)`  | `not A and not B` |\n",
    "\n",
    "Considerare le espressioni seguenti, e per ciascuna di esse applicare la legge di De Morgan. Provare a descrivere \"a parole\" il significato algebrico intuitivo di ciascuna espressione.\n",
    "\n",
    "Scrivere poi un programma che prenda in input un numero intero `x` e, per ciascuna delle seguenti espressioni (che corrispondono alla negazione delle espressioni dell'Esercizio 4), stampi:\n",
    "\n",
    "1. L'espressione di partenza.\n",
    "2. L'espressione una volta applicata la legge di De Morgan e il valore di verità risultante dalla sua valutazione.\n",
    "\n",
    "- `not(x > 0 and x < 100)`\n",
    "- `not(x > 0 or x < 100)`\n",
    "- `not(x > 0 or 100 < x)`\n",
    "- `not(x > 0 and x< 100 or x == -1)`"
   ]
  },
  {
   "cell_type": "markdown",
   "metadata": {},
   "source": [
    "ESEMPIO:\n",
    "\n",
    "Se `x = 200`\n",
    "\n",
    "Output atteso:\n",
    "\n",
    "```text\n",
    "Originale:\n",
    "200 > 0 and 200 < 100 : False\n",
    "\n",
    "Negato:\n",
    "# not (200 > 0) and not (200 < 100) : True\n",
    "200 <= 0 or 200 >= 100 : True\n",
    "...\n",
    "```"
   ]
  },
  {
   "cell_type": "code",
   "execution_count": 17,
   "metadata": {},
   "outputs": [
    {
     "name": "stdout",
     "output_type": "stream",
     "text": [
      "200 > 0 and 200 < 100: False\n",
      "Originale:\n",
      "200 > 0 and 200 < 100: False\n",
      "Negata:\n",
      "200 <= 0 and 200 >= 100: True\n",
      "200 > 0 or 200 < 100: True\n",
      "200 > 0 or 100 < 200: True\n",
      "200 > 0 and x < 100 or 200 == -1: False\n"
     ]
    }
   ],
   "source": [
    "# Scrivi qua il tuo codice\n",
    "\n",
    "#x = int(input (\"Inserire un numero:\"))\n",
    "x = 200\n",
    "\n",
    "if not (x > 0)  and not(x < 100):\n",
    "    print (f'{x} > 0 and {x} < 100: True')\n",
    "    print (f'Originale:\\n{x} > 0 and {x} < 100: True')\n",
    "    print (f'Negata:\\n{x} <= 0 and {x} >= 100: False')\n",
    "else:\n",
    "    print (f'{x} > 0 and {x} < 100: False')\n",
    "    print (f'Originale:\\n{x} > 0 and {x} < 100: False')\n",
    "    print (f'Negata:\\n{x} <= 0 and {x} >= 100: True')\n",
    "\n",
    "\n",
    "if x > 0 or x < 100:\n",
    "    print (f'{x} > 0 or {x} < 100: True')\n",
    "else:\n",
    "    print (f'{x} > 0 or {x} < 100: False')\n",
    "\n",
    "if x > 0 or 100 < x:\n",
    "    print (f'{x} > 0 or 100 < {x}: True')\n",
    "else:\n",
    "    print (f'{x} > 0 or 100 < {x}: False')\n",
    "\n",
    "if x > 0 and x < 100 or 200 == -1:\n",
    "    print (f'{x} > 0 and x < 100 or 200 == -1: True')\n",
    "else:\n",
    "    print (f'{x} > 0 and x < 100 or 200 == -1: False')\n",
    "\n"
   ]
  }
 ],
 "metadata": {
  "kernelspec": {
   "display_name": ".venv",
   "language": "python",
   "name": "python3"
  },
  "language_info": {
   "codemirror_mode": {
    "name": "ipython",
    "version": 3
   },
   "file_extension": ".py",
   "mimetype": "text/x-python",
   "name": "python",
   "nbconvert_exporter": "python",
   "pygments_lexer": "ipython3",
   "version": "3.12.2"
  }
 },
 "nbformat": 4,
 "nbformat_minor": 2
}
