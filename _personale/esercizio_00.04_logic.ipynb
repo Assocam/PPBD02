{
 "cells": [
  {
   "cell_type": "markdown",
   "metadata": {},
   "source": [
    "# Esercizi introduttivi"
   ]
  },
  {
   "cell_type": "markdown",
   "metadata": {},
   "source": [
    "TEMI TRATTATI:\n",
    "\n",
    "- Elaborazioni e confronti tra variabili con valori di tipo `int`, `float` e `str`.\n",
    "- Espressioni booleane.\n",
    "- Scelte logiche."
   ]
  },
  {
   "cell_type": "markdown",
   "metadata": {},
   "source": [
    "NOTE SULLO SVOLGIMENTO:\n",
    "- Puoi svolgere ed eseguire gli esercizi direttamente qua su questo notebook oppure su un normale file di script Python con estensione `.py`, eseguendolo nel terminale del sistema operativo con il comando `py mio_esercizio.py` (Windows) oppure `python3 mio_esercizio.py` (Linux o macOS)."
   ]
  },
  {
   "cell_type": "markdown",
   "metadata": {},
   "source": [
    "## Esercizio 1: Vero o Falso\n",
    "\n",
    "Per ciascuna delle seguenti coppie di valori, eseguire un test di uguaglianza, assegnare il risultato ad una variabile, e visualizzarlo. Provare a prevedere quale sarà il risultato di ciascuna verifica.\n",
    "\n",
    "```text\n",
    "1, 1\n",
    "\n",
    "1, 1.0\n",
    "\n",
    "2.0, sqrt(4)\n",
    "\n",
    "'1', 1\n",
    "\n",
    "'ciao', 'Ciao'.\n",
    "```"
   ]
  },
  {
   "cell_type": "markdown",
   "metadata": {},
   "source": [
    "ESEMPIO:\n",
    "\n",
    "```python\n",
    "esempio = 'pippo' == 'pippo'\n",
    "print(esempio)\n",
    "# True\n",
    "```"
   ]
  },
  {
   "cell_type": "code",
   "execution_count": 10,
   "metadata": {},
   "outputs": [
    {
     "name": "stdout",
     "output_type": "stream",
     "text": [
      "1 == 1 : True\n",
      "1 == 1? True\n",
      "\n",
      "1 == 1.0? True\n",
      "\n",
      "2.0 == sqrt(4)? True\n",
      "\n",
      "2.0 == sqrt(4)? True\n"
     ]
    }
   ],
   "source": [
    "# Scrivi qua il tuo codice\n",
    "\n",
    "print('1 == 1 :', 1 == 1)\n",
    "\n",
    "if 1 == 1:\n",
    "    print('1 == 1?', True)\n",
    "else:\n",
    "    print('1 == 1?', False)\n",
    "\n",
    "print()\n",
    "\n",
    "if 1 == 1.0:\n",
    "    print('1 == 1.0?', True)\n",
    "else:\n",
    "    print('1 == 1.0?', False)\n",
    "\n",
    "print()\n",
    "\n",
    "if 2.0 == 4**(1/2):\n",
    "    print('2.0 == sqrt(4)?', True)\n",
    "else:\n",
    "    print('2.0 == sqrt(4)?', False)\n",
    "\n",
    "print()\n",
    "\n",
    "# ------------------------------------------------------- #\n",
    "\n",
    "from math import sqrt  # La buona norma dice di importare tutte le funzioni nelle prime righe del codice\n",
    "\n",
    "if 2.0 == sqrt(4):\n",
    "    print('2.0 == sqrt(4)?', True)\n",
    "else:\n",
    "    print('2.0 == sqrt(4)?', False)\n",
    "    \n",
    "\n"
   ]
  },
  {
   "cell_type": "markdown",
   "metadata": {},
   "source": [
    "## Esercizio 2: Identikit della stringa\n",
    "\n",
    "Scrivere un programma che legga una stringa e visualizzi dei messaggi appropriati, dopo aver verificato se:\n",
    "\n",
    "- contiene soltanto lettere;\n",
    "- contiene soltanto lettere maiuscole;\n",
    "- contiene soltanto lettere minuscole;\n",
    "- contiene soltanto cifre numeriche decimali;\n",
    "- contiene soltanto lettere e cifre;\n",
    "- inizia con una lettera maiuscola;\n",
    "- termina con un punto."
   ]
  },
  {
   "cell_type": "code",
   "execution_count": 30,
   "metadata": {},
   "outputs": [
    {
     "name": "stdout",
     "output_type": "stream",
     "text": [
      "Hai scritto: Ciao a tutti quanti.\n",
      "La stringa contiene almeno un carattere non alfabetico.\n",
      "La stringa inizia con un carattere maiuscolo.\n",
      "La stringa termina con un punto.\n"
     ]
    }
   ],
   "source": [
    "# Scrivi qua il tuo codice\n",
    "\n",
    "message = 'Ciao a tutti quanti.'                # Possiamo in fase iniziale tenere questo\n",
    "\n",
    "# message = input('Inserisci un messaggio: ')   # Quando poi pensiamo che funziona e vogliamo provare\n",
    "print('Hai scritto:', message)                  # a vedere se funziona, possiamo \"scommentare\"\n",
    "\n",
    "# Sulla lezione dei riferimenti sulle stringhe (A_string_reference.ipynb)\n",
    "\n",
    "# message.isalpha()  # Trovato cercando su google, python strings contains only alfabetical character\n",
    "\n",
    "if message.isalpha():\n",
    "    print('La stringa contiene solo caratteri alfabetici.')\n",
    "else:\n",
    "    print('La stringa contiene almeno un carattere non alfabetico.')\n",
    "\n",
    "if message.islower():\n",
    "    print('La stringa contiene solo caratteri minuscoli.')\n",
    "\n",
    "if message.isupper():\n",
    "    print('La stringa contiene solo caratteri maiuscoli.')\n",
    "\n",
    "if message.isdigit():\n",
    "# if message.isdecimal():\n",
    "    print('La stringa contiene solo cifre numeriche decimali.')\n",
    "\n",
    "if message.isalnum():\n",
    "    print('La stringa contiene solo caratteri alfanumerici.')\n",
    "\n",
    "if message[0].isupper():\n",
    "    print('La stringa inizia con un carattere maiuscolo.')\n",
    "\n",
    "if message.endswith('.'):\n",
    "    print('La stringa termina con un punto.')\n",
    "\n"
   ]
  },
  {
   "cell_type": "code",
   "execution_count": 6,
   "metadata": {},
   "outputs": [
    {
     "name": "stdout",
     "output_type": "stream",
     "text": [
      "Non è possibile stabilire se tutti i caratteri alfabetici siano minuscoli\n",
      "\n"
     ]
    }
   ],
   "source": [
    "message = 'Ciao mamma! Ho fame.'\n",
    "\n",
    "if message.isalpha() and message.islower():\n",
    "    print('La stringa contiene SOLO caratteri minuscoli e nessun altro tipo di carattere')\n",
    "else:\n",
    "    print('Non è possibile stabilire se tutti i caratteri alfabetici siano minuscoli')\n",
    "\n",
    "if message.isalpha() and message.isupper():\n",
    "    print('La stringa contiene SOLO caratteri maiuscoli e nessun altro tipo di carattere')\n",
    "\n",
    "print()\n",
    "\n"
   ]
  },
  {
   "cell_type": "markdown",
   "metadata": {},
   "source": [
    "## Esercizio 3: Tracce genetiche\n",
    "\n",
    "Le sequenze di DNA sono come lunghe stringhe composte da solo quattro lettere: `'A'`, `'C'`, `'T'` e `'G'`. Scrivere un programma che prenda in input una \"sequenza lunga\" di DNA di venti caratteri e una \"sequenza breve\" di tre caratteri e visualizzi le seguenti informazioni:\n",
    "\n",
    "1. Se la \"sequenza breve\" è presente all'interno della \"sequenza lunga\".\n",
    "2. Se presente, a partire da quale posizione (indice) della \"sequenza lunga\" è presente la \"sequenza breve\".\n",
    "3. Se presente, quante volte la \"sequenza breve\" è contenuta nella \"sequenza lunga\"."
   ]
  },
  {
   "cell_type": "code",
   "execution_count": 21,
   "metadata": {},
   "outputs": [
    {
     "name": "stdout",
     "output_type": "stream",
     "text": [
      "La sequenza breve 'GTT' è presente nella sequenza lunga.\n",
      "Trovata alla posizione 4.\n",
      "La sottostringa è stata trovata 1 volte\n"
     ]
    }
   ],
   "source": [
    "# Scrivi qua il tuo codice\n",
    "\n",
    "seq_lunga = 'AGTCGTTAGATTACAATGAC'\n",
    "\n",
    "seq_breve = 'GTT'\n",
    "\n",
    "# Punto 1:\n",
    "# Controllare che una sottostringa sia presente in una stringa più lunga\n",
    "# (operatore di appartenenza) -> \"in\"\n",
    "\n",
    "if seq_breve in seq_lunga:\n",
    "    print(f\"La sequenza breve '{seq_breve}' è presente nella sequenza lunga.\")\n",
    "else:\n",
    "    print(f\"La sequenza breve '{seq_breve}' NON è presente nella sequenza lunga.\")\n",
    "\n",
    "# Punto 2:\n",
    "# Controllare la posizione (indice) dalla quale parte la stringa breve\n",
    "# String find ---> str.find()   ----> al posto di str va messa la variabile, è un metodo.\n",
    "# Se voglio trovare le varie posizioni dove trovarlo devo impostare tipo\n",
    "# .find(dove, start[ , end]) ----> seq_lunga.find(seq_breve, 5, ...)\n",
    "\n",
    "indice = seq_lunga.find(seq_breve)         # gli assegno una variabile in modo da non fargli calcolare il valore a ogni ciclo di controllo if\n",
    "\n",
    "if indice != -1:                           # se restituisce \"-1\" vuol dire che non l'ha trovata, non che parte da destra\n",
    "    print(f'Trovata alla posizione {seq_lunga.find(seq_breve)}.')\n",
    "else:\n",
    "    print('Sequenza non trovata.')\n",
    "    \n",
    "# Punto 3: \n",
    "# Controllare quante volte compare la stringa corta in quella lunga\n",
    "# string count()\n",
    "    \n",
    "conteggio = seq_lunga.count(seq_breve)\n",
    "print(f'La sottostringa è stata trovata {conteggio} volte')\n"
   ]
  },
  {
   "cell_type": "code",
   "execution_count": 46,
   "metadata": {},
   "outputs": [
    {
     "name": "stdout",
     "output_type": "stream",
     "text": [
      "La sequenza breve 'GTT' è presente nella sequenza lunga,\n",
      "è stata trovata alla posizione 4 come prima occorrenza ed è presente 1 volta.\n"
     ]
    }
   ],
   "source": [
    "# È inutile fargli fare due giri di if se la stringa non è presente già al primo if, per cui compattiamo:\n",
    "\n",
    "seq_lunga = 'AGTCGTTAGATTACAATGAC'\n",
    "\n",
    "seq_breve = 'GTT'\n",
    "\n",
    "indice = seq_lunga.find(seq_breve)\n",
    "\n",
    "conteggio = seq_lunga.count(seq_breve)     \n",
    "\n",
    "\n",
    "# Condizione estesa\n",
    "# if conteggio == 1:                                    # per fare il plurale metto una variabile che cambia dopo in base alla condizione if\n",
    "#     str_volte = \"volta\"                               # in questo modo scrivo una sola stringa anziché due condizioni if con due stringhe\n",
    "# else:                                                 # diverse dove cambia solo la parola \"volta\".\n",
    "#     str_volte = \"volte\"                               # Condizione perfetta per usare l'OPERATORE TERNARIO.\n",
    "\n",
    "# OPERATORE TERNARIO: \n",
    "str_volta = \"volta\" if conteggio == 1 else \"volte\"      # Sono le esatte condizioni di prima, ma è più leggibile.\n",
    "\n",
    "if seq_breve in seq_lunga:                              # and indice != -1 non è necessario, perché è verificata la condizione if.\n",
    "   \n",
    "    print(f\"La sequenza breve '{seq_breve}' è presente nella sequenza lunga,\\nè stata trovata alla \"\n",
    "          f\"posizione {seq_lunga.find(seq_breve)} come prima occorrenza ed è presente {conteggio} \"\n",
    "          f\"{str_volte}.\")\n",
    "    # if\n",
    "        # if\n",
    "            # ...\n",
    "\n",
    "# Indentare le altre condizioni di sotto if per far fare\n",
    "# il ciclo solo se la prima condizione \"se\" è verificata,\n",
    "# ricordando il concetto di scatola nella scatola\n",
    "\n",
    "# if conteggio == 1:\n",
    "#     print(f'La sottostringa è stata trovata {conteggio} volta.')\n",
    "# else:\n",
    "#     print(f'La sottostringa è stata trovata {conteggio} volte.')\n",
    "        \n",
    "else:\n",
    "    print(f\"La sequenza breve '{seq_breve}' NON è presente nella sequenza lunga.\")\n",
    "\n",
    "# Posso annidare l'operatore ternario direttamente nella stringa, senza scomodare altre variabili: \n",
    "\n",
    "#    print(f\"La sequenza breve '{seq_breve}' è presente nella sequenza lunga,\\nè stata trovata alla \"\n",
    "#          f\"posizione {seq_lunga.find(seq_breve)} come prima occorrenza ed è presente {conteggio} \"\n",
    "#          f\"{\"volta\" if conteggio == 1 else \"volte\"}.\")\n",
    "\n",
    "\n"
   ]
  },
  {
   "cell_type": "markdown",
   "metadata": {},
   "source": [
    "## Esercizio 4: Questione di logica\n",
    "\n",
    "Scrivere un programma che prenda in input un numero intero `x` e visualizzi a schermo le seguenti espressioni, accompagnate dai valori di verità risultanti dalla loro valutazione.\n",
    "\n",
    "- `0 and x < 100`\n",
    "- `0 or x < 100`\n",
    "- `0 or 100 < x`\n",
    "- `0 and x < 100 or x == -1`\n",
    "\n",
    "Testare il programma con numerosi valori di x."
   ]
  },
  {
   "cell_type": "markdown",
   "metadata": {},
   "source": [
    "ESEMPIO:\n",
    "\n",
    "Se `x = 200`\n",
    "\n",
    "Output atteso:\n",
    "\n",
    "```text\n",
    "x > 0 and x < 100 : False\n",
    "x > 0 or x < 100 : True\n",
    "x > 0 or 100 < x : True\n",
    "x > 0 and x < 100 or x == -1 : False\n",
    "\n",
    "```"
   ]
  },
  {
   "cell_type": "code",
   "execution_count": 7,
   "metadata": {},
   "outputs": [
    {
     "name": "stdout",
     "output_type": "stream",
     "text": [
      "200 > 0 and 200 < 100 : False\n",
      "200 > 0 or 200 < 100 : True\n",
      "200 > 0 or 200 > 100 : True\n",
      "200 > 0 and 200 < 100 or x == -1 : False\n"
     ]
    }
   ],
   "source": [
    "# Scrivi qua il tuo codice\n",
    "\n",
    "x = float(input(\"Inserire un numero positivo: \"))\n",
    "\n",
    "# if x > 0 and x < 100:\n",
    "#     print(f'{x} > 0 and {x} < 100 :', 0<x<100)\n",
    "# if x > 0 or x < 100:\n",
    "#     print(f'{x} > 0 or {x} < 100 :', x<100)\n",
    "# if x > 0 or x > 100:\n",
    "#     print(f'{x} > 0 or {x} > 100 :', x>100)\n",
    "# if x > 0 and x < 100 or x == -1:\n",
    "#     print(f'{x} > 0 and {x} < 100 or x == -1 :', 0<x<100)\n",
    "\n",
    "# TROPPO LUNGO, L'OUTPUT è DI QUATTRO RIGHE. SE L'OUTPUT FOSSE SOLO DI UNA RIGA OK, MA QUI METTIAMO SOLO UN IF.\n",
    "\n",
    "# <----------------------------------------------------------------------------->\n",
    "\n",
    "# if x > 0:\n",
    "#     print(f'{x} > 0 and {x} < 100:', 0<x<100)\n",
    "#     print(f'{x} > 0 or {x} < 100:', x>0)\n",
    "#     print(f'{x} > 0 or {x} > 100:', x>100)\n",
    "#     print(f'{x} > 0 and {x} < 100 or x == -1:', 0<x<100 or x == -1)\n",
    "\n",
    "# <----------------------------------------------------------------------------->\n",
    "    \n",
    "if x > 0:\n",
    "    print(f'{x} > 0 and {x} < 100:', x>0 and x<100)\n",
    "    print(f'{x} > 0 or {x} < 100:', x>0 or x<100)\n",
    "    print(f'{x} > 0 or {x} > 100:', x>0 and x>100)\n",
    "    print(f'{x} > 0 and {x} < 100 or x == -1:', x>0 and x<100 or x == -1)\n",
    "\n",
    "else:\n",
    "    x = float(input(\"Il numero inserito è negativo. Inserire un numero positivo: \"))\n",
    "\n",
    "# <----------------------------------------------------------------------------->\n",
    "\n",
    "# In effetti nessuno ha detto che il numero non possa essere negativo, quindi può anche funzionare così anche senza if:\n",
    "\n",
    "x = float(input(\"Inserire un numero positivo: \"))\n",
    "\n",
    "print(f'{x} > 0 and {x} < 100:', x>0 and x<100)\n",
    "print(f'{x} > 0 or {x} < 100:', x>0 or x<100)\n",
    "print(f'{x} > 0 or {x} > 100:', x>0 and x>100)\n",
    "print(f'{x} > 0 and {x} < 100 or x == -1:', x>0 and x<100 or x == -1)\n",
    "\n",
    "\n",
    "\n",
    "       \n",
    "\n"
   ]
  },
  {
   "cell_type": "markdown",
   "metadata": {},
   "source": [
    "## Esercizio 5: De Morgan (+)\n",
    "\n",
    "La legge di De Morgan permette di semplificare l'applicazione dell'operatore `not` ad espressioni che contengono operatori `and` e/o `or`. In particolare, questa legge ha due forme, una per la negazione di espressioni in `and`, e una per la negazione di espressioni in `or`:\n",
    "\n",
    "|               | equivale a\n",
    "--------------- | ------------------|\n",
    "`not (A and B)` | `not A or not B`  |\n",
    "`not (A or B)`  | `not A and not B` |\n",
    "\n",
    "Considerare le espressioni seguenti, e per ciascuna di esse applicare la legge di De Morgan. Provare a descrivere \"a parole\" il significato algebrico intuitivo di ciascuna espressione.\n",
    "\n",
    "Scrivere poi un programma che prenda in input un numero intero `x` e, per ciascuna delle seguenti espressioni (che corrispondono alla negazione delle espressioni dell'Esercizio 4), stampi:\n",
    "\n",
    "1. L'espressione di partenza.\n",
    "2. L'espressione una volta applicata la legge di De Morgan e il valore di verità risultante dalla sua valutazione.\n",
    "\n",
    "- `not(x > 0 and x < 100)`\n",
    "- `not(x > 0 or x < 100)`\n",
    "- `not(x > 0 or 100 < x)`\n",
    "- `not(x > 0 and x< 100 or x == -1)`"
   ]
  },
  {
   "cell_type": "markdown",
   "metadata": {},
   "source": [
    "ESEMPIO:\n",
    "\n",
    "Se `x = 200`\n",
    "\n",
    "Output atteso:\n",
    "\n",
    "```text\n",
    "Originale:\n",
    "200 > 0 and 200 < 100 : False\n",
    "\n",
    "Negato:\n",
    "# not (200 > 0) and not (200 < 100) : True\n",
    "200 <= 0 or 200 >= 100 : True\n",
    "...\n",
    "```"
   ]
  },
  {
   "cell_type": "code",
   "execution_count": 5,
   "metadata": {},
   "outputs": [
    {
     "data": {
      "text/plain": [
       "True"
      ]
     },
     "execution_count": 5,
     "metadata": {},
     "output_type": "execute_result"
    }
   ],
   "source": [
    "# Scrivi qua il tuo codice\n"
   ]
  }
 ],
 "metadata": {
  "kernelspec": {
   "display_name": ".venv",
   "language": "python",
   "name": "python3"
  },
  "language_info": {
   "codemirror_mode": {
    "name": "ipython",
    "version": 3
   },
   "file_extension": ".py",
   "mimetype": "text/x-python",
   "name": "python",
   "nbconvert_exporter": "python",
   "pygments_lexer": "ipython3",
   "version": "3.12.2"
  }
 },
 "nbformat": 4,
 "nbformat_minor": 2
}
