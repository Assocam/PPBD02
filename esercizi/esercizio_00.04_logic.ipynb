{
 "cells": [
  {
   "cell_type": "markdown",
   "metadata": {},
   "source": [
    "# Esercizi introduttivi"
   ]
  },
  {
   "cell_type": "markdown",
   "metadata": {},
   "source": [
    "TEMI TRATTATI:\n",
    "\n",
    "- Elaborazioni e confronti tra variabili con valori di tipo `int`, `float` e `str`.\n",
    "- Espressioni booleane.\n",
    "- Scelte logiche."
   ]
  },
  {
   "cell_type": "markdown",
   "metadata": {},
   "source": [
    "NOTE SULLO SVOLGIMENTO:\n",
    "- Puoi svolgere ed eseguire gli esercizi direttamente qua su questo notebook oppure su un normale file di script Python con estensione `.py`, eseguendolo nel terminale del sistema operativo con il comando `py mio_esercizio.py` (Windows) oppure `python3 mio_esercizio.py` (Linux o macOS)."
   ]
  },
  {
   "cell_type": "markdown",
   "metadata": {},
   "source": [
    "## Esercizio 1: Vero o Falso\n",
    "\n",
    "Per ciascuna delle seguenti coppie di valori, eseguire un test di uguaglianza, assegnare il risultato ad una variabile, e visualizzarlo. Provare a prevedere quale sarà il risultato di ciascuna verifica.\n",
    "\n",
    "```text\n",
    "1, 1\n",
    "\n",
    "1, 1.0\n",
    "\n",
    "2.0, sqrt(4)\n",
    "\n",
    "'1', 1\n",
    "\n",
    "'ciao', 'Ciao'.\n",
    "```"
   ]
  },
  {
   "cell_type": "markdown",
   "metadata": {},
   "source": [
    "ESEMPIO:\n",
    "\n",
    "```python\n",
    "esempio = 'pippo' == 'pippo'\n",
    "print(esempio)\n",
    "# True\n",
    "```"
   ]
  },
  {
   "cell_type": "code",
   "execution_count": null,
   "metadata": {},
   "outputs": [],
   "source": [
    "# Scrivi qua il tuo codice\n"
   ]
  },
  {
   "cell_type": "markdown",
   "metadata": {},
   "source": [
    "## Esercizio 2: Identikit della stringa\n",
    "\n",
    "Scrivere un programma che legga una stringa e visualizzi dei messaggi appropriati, dopo aver verificato se:\n",
    "\n",
    "- contiene soltanto lettere;\n",
    "- contiene soltanto lettere maiuscole;\n",
    "- contiene soltanto lettere minuscole;\n",
    "- contiene soltanto cifre numeriche decimali;\n",
    "- contiene soltanto lettere e cifre;\n",
    "- inizia con una lettera maiuscola;\n",
    "- termina con un punto."
   ]
  },
  {
   "cell_type": "code",
   "execution_count": null,
   "metadata": {},
   "outputs": [],
   "source": [
    "# Scrivi qua il tuo codice\n"
   ]
  },
  {
   "cell_type": "markdown",
   "metadata": {},
   "source": [
    "## Esercizio 3: Tracce genetiche\n",
    "\n",
    "Le sequenze di DNA sono come lunghe stringhe composte da solo quattro lettere: `'A'`, `'C'`, `'T'` e `'G'`. Scrivere un programma che prenda in input una \"sequenza lunga\" di DNA di venti caratteri e una \"sequenza breve\" di tre caratteri e visualizzi le seguenti informazioni:\n",
    "\n",
    "1. Se la \"sequenza breve\" è presente all'interno della \"sequenza lunga\".\n",
    "2. Se presente, a partire da quale posizione (indice) della \"sequenza lunga\" è presente la \"sequenza breve\".\n",
    "3. Se presente, quante volte la \"sequenza breve\" è contenuta nella \"sequenza lunga\"."
   ]
  },
  {
   "cell_type": "code",
   "execution_count": 31,
   "metadata": {},
   "outputs": [
    {
     "name": "stdout",
     "output_type": "stream",
     "text": [
      "la stringa breve \"CBD\" è contenuta in quella più lunga\n",
      "alla posizione 0\n",
      "per 1 volte.\n",
      "la stringa breve \"CBD\" è contenuta in quella più lunga alla posizione 0  per 1 volte.\n"
     ]
    }
   ],
   "source": [
    "# Scrivi qua il tuo codice\n",
    "\n",
    "seq_lunga = 'CBDHSIUHRFBCSKHF'\n",
    "\n",
    "seq_breve = 'CBD' \n",
    "\n",
    "#controllare che una sottostringa sia presente in una stringa più lunga\n",
    "#(operatore si appartenenza) \"in\"\n",
    "\n",
    "seq_breve in seq_lunga\n",
    "\n",
    "if seq_breve in seq_lunga:\n",
    "    print(f'la stringa breve \"{seq_breve}\" è contenuta in quella più lunga')\n",
    "else:\n",
    "    print(f'la stringa breve \"{seq_breve}\" è NON contenuta in quella più lunga')\n",
    "\n",
    "#DEVO CAPIRE IN QUALE POSIZIONE LA STRINGA BREVE è CONTENUTA IN QUELLA LUNGA\n",
    "    \n",
    "indice = seq_lunga.find(seq_breve)\n",
    "\n",
    "if indice != -1:\n",
    "    print(f'alla posizione {indice}')\n",
    "else:\n",
    "    print('sottostringa NON trovata')\n",
    "\n",
    "conteggio = seq_lunga.count(seq_breve)\n",
    "\n",
    "print(f'per {conteggio} volte.')\n",
    "\n",
    "print(f'la stringa breve \"{seq_breve}\" è contenuta in quella più lunga '\n",
    "      f'alla posizione {indice} '\n",
    "      f' per {conteggio} volte.')          #QUESTO è UN MODO PER AVERE LA STRINGA TUTTA IN SEQUENZA"
   ]
  },
  {
   "cell_type": "code",
   "execution_count": 26,
   "metadata": {},
   "outputs": [
    {
     "name": "stdout",
     "output_type": "stream",
     "text": [
      "la stringa breve \"CBD\" è contenuta in quella più lunga\n",
      "alla posizione 0.\n",
      "la sottostringa è stata trovata n 2 volte\n",
      "la stringa breve \"CBD\" è contenuta in quella più lunga n 2 volte alla posizione 0.\n"
     ]
    }
   ],
   "source": [
    "seq_lunga = 'CBDHSIUCBDBCSKHF'\n",
    "\n",
    "seq_breve = 'CBD'\n",
    "\n",
    "if seq_breve in seq_lunga:\n",
    "    print(f'la stringa breve \"{seq_breve}\" è contenuta in quella più lunga')\n",
    "\n",
    "    indice = seq_lunga.find(seq_breve)\n",
    "    print(f'alla posizione {indice}.')\n",
    "\n",
    "    conteggio = seq_lunga.count(seq_breve)\n",
    "    print(f'la sottostringa è stata trovata n {conteggio} {str_volta}')\n",
    "\n",
    "    #if conteggio == 1:\n",
    "    #    str_volta = 'volta'.\n",
    "    #else:                        #QUESTA CONDIZIONE è IL CASO PERFETTO PER USARE L'OPERATORE TERNARIO\n",
    "    #    str_volta = 'volte'.\n",
    "\n",
    "#ESEMPIO LO POSSIAMO SCRIVERE ANCHE COSì: \n",
    "    str_volta = 'volta' if conteggio == 1 else 'volte'\n",
    "\n",
    "    contenuta = (f'la stringa breve \"{seq_breve}\" è contenuta in quella più lunga')\n",
    "    n_volte = (f'n {conteggio} {str_volta}')\n",
    "    posizione = (f'alla posizione {indice}.')\n",
    "else:\n",
    "    print(f'la stringa breve \"{seq_breve}\" è NON contenuta in quella più lunga')\n",
    "\n",
    "\n",
    "\n",
    "#vado a mettere tutti i dati rilevati in un'unica satringa\n",
    "print(contenuta, n_volte, posizione)"
   ]
  },
  {
   "cell_type": "code",
   "execution_count": 36,
   "metadata": {},
   "outputs": [
    {
     "ename": "SyntaxError",
     "evalue": "incomplete input (639219309.py, line 7)",
     "output_type": "error",
     "traceback": [
      "\u001b[0;36m  Cell \u001b[0;32mIn[36], line 7\u001b[0;36m\u001b[0m\n\u001b[0;31m    print(pos = mia_str.find ('mia', pos +1)\u001b[0m\n\u001b[0m                                            ^\u001b[0m\n\u001b[0;31mSyntaxError\u001b[0m\u001b[0;31m:\u001b[0m incomplete input\n"
     ]
    }
   ],
   "source": [
    "print('mamma mia mamma mia'.find('mia'))\n",
    "\n",
    "pos = mia_str.find('mia')\n",
    "print(pos)\n",
    "\n",
    "if pos != -1:\n",
    "    print(pos = mia_str.find ('mia', pos +1)"
   ]
  },
  {
   "cell_type": "markdown",
   "metadata": {},
   "source": [
    "## Esercizio 4: Questione di logica\n",
    "\n",
    "Scrivere un programma che prenda in input un numero intero `x` e visualizzi a schermo le seguenti espressioni, accompagnate dai valori di verità risultanti dalla loro valutazione.\n",
    "\n",
    "- `0 and x < 100`\n",
    "- `0 or x < 100`\n",
    "- `0 or 100 < x`\n",
    "- `0 and x < 100 or x == -1`\n",
    "\n",
    "Testare il programma con numerosi valori di x."
   ]
  },
  {
   "cell_type": "markdown",
   "metadata": {},
   "source": [
    "ESEMPIO:\n",
    "\n",
    "Se `x = 200`\n",
    "\n",
    "Output atteso:\n",
    "\n",
    "```text\n",
    "200 > 0 and 200 < 100 : False\n",
    "200 > 0 or 200 < 100 : True\n",
    "200 > 0 or 100 < 200 : True\n",
    "200 > 0 and 200 < 100 or 200 == -1 : False\n",
    "\n",
    "```"
   ]
  },
  {
   "cell_type": "code",
   "execution_count": null,
   "metadata": {},
   "outputs": [],
   "source": [
    "# Scrivi qua il tuo codice\n"
   ]
  },
  {
   "cell_type": "markdown",
   "metadata": {},
   "source": [
    "## Esercizio 5: De Morgan (+)\n",
    "\n",
    "La legge di De Morgan permette di semplificare l'applicazione dell'operatore `not` ad espressioni che contengono operatori `and` e/o `or`. In particolare, questa legge ha due forme, una per la negazione di espressioni in `and`, e una per la negazione di espressioni in `or`:\n",
    "\n",
    "|               | equivale a\n",
    "--------------- | ------------------|\n",
    "`not (A and B)` | `not A or not B`  |\n",
    "`not (A or B)`  | `not A and not B` |\n",
    "\n",
    "Considerare le espressioni seguenti, e per ciascuna di esse applicare la legge di De Morgan. Provare a descrivere \"a parole\" il significato algebrico intuitivo di ciascuna espressione.\n",
    "\n",
    "Scrivere poi un programma che prenda in input un numero intero `x` e, per ciascuna delle seguenti espressioni (che corrispondono alla negazione delle espressioni dell'Esercizio 4), stampi:\n",
    "\n",
    "1. L'espressione di partenza.\n",
    "2. L'espressione una volta applicata la legge di De Morgan e il valore di verità risultante dalla sua valutazione.\n",
    "\n",
    "- `not(x > 0 and x < 100)`\n",
    "- `not(x > 0 or x < 100)`\n",
    "- `not(x > 0 or 100 < x)`\n",
    "- `not(x > 0 and x< 100 or x == -1)`"
   ]
  },
  {
   "cell_type": "markdown",
   "metadata": {},
   "source": [
    "ESEMPIO:\n",
    "\n",
    "Se `x = 200`\n",
    "\n",
    "Output atteso:\n",
    "\n",
    "```text\n",
    "Originale:\n",
    "200 > 0 and 200 < 100 : False\n",
    "\n",
    "Negato:\n",
    "# not (200 > 0) and not (200 < 100) : True\n",
    "200 <= 0 or 200 >= 100 : True\n",
    "...\n",
    "```"
   ]
  },
  {
   "cell_type": "code",
   "execution_count": 5,
   "metadata": {},
   "outputs": [
    {
     "data": {
      "text/plain": [
       "True"
      ]
     },
     "execution_count": 5,
     "metadata": {},
     "output_type": "execute_result"
    }
   ],
   "source": [
    "# Scrivi qua il tuo codice\n"
   ]
  }
 ],
 "metadata": {
  "kernelspec": {
   "display_name": ".venv",
   "language": "python",
   "name": "python3"
  },
  "language_info": {
   "codemirror_mode": {
    "name": "ipython",
    "version": 3
   },
   "file_extension": ".py",
   "mimetype": "text/x-python",
   "name": "python",
   "nbconvert_exporter": "python",
   "pygments_lexer": "ipython3",
   "version": "3.10.13"
  }
 },
 "nbformat": 4,
 "nbformat_minor": 2
}
